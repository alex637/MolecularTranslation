{
 "cells": [
  {
   "cell_type": "markdown",
   "metadata": {},
   "source": [
    "# Pretraining CNN encoder on a regression problem.\n",
    "\n",
    "Idea: start with pretraining the CNN (and, additionally, work with the dataset of pictures). Then, when Decoder is added (probably LSTM), we can first train the decoder with fixed encoder weights, and then finetune Decoder-Encoder together. Kaggle links"
   ]
  },
  {
   "cell_type": "code",
   "execution_count": 1,
   "metadata": {},
   "outputs": [],
   "source": [
    "import numpy as np\n",
    "import pandas as pd\n",
    "import matplotlib.pyplot as plt\n",
    "\n",
    "import torch\n",
    "from torch import nn\n",
    "from torchvision.transforms import Pad, Resize\n",
    "\n",
    "from tqdm import tqdm\n",
    "import imageio\n",
    "import gc\n",
    "\n",
    "from sklearn.model_selection import train_test_split"
   ]
  },
  {
   "cell_type": "markdown",
   "metadata": {},
   "source": [
    "## Scaling pictures"
   ]
  },
  {
   "cell_type": "code",
   "execution_count": 92,
   "metadata": {},
   "outputs": [
    {
     "data": {
      "image/png": "[encoded data removed]",
      "text/plain": [
       "<Figure size 432x288 with 1 Axes>"
      ]
     },
     "metadata": {
      "needs_background": "light"
     },
     "output_type": "display_data"
    },
    {
     "name": "stdout",
     "output_type": "stream",
     "text": [
      "255\n"
     ]
    }
   ],
   "source": [
    "im = imageio.imread('original_data/train/0/0/0/000011a64c74.png')\n",
    "plt.imshow(im)\n",
    "plt.show()\n",
    "print(im[2,5])"
   ]
  },
  {
   "cell_type": "code",
   "execution_count": 93,
   "metadata": {},
   "outputs": [
    {
     "data": {
      "text/plain": [
       "tensor([[1., 1., 1.,  ..., 1., 1., 1.],\n",
       "        [1., 1., 1.,  ..., 1., 1., 1.],\n",
       "        [1., 1., 1.,  ..., 1., 1., 1.],\n",
       "        ...,\n",
       "        [1., 1., 1.,  ..., 1., 1., 1.],\n",
       "        [1., 1., 1.,  ..., 1., 1., 1.],\n",
       "        [1., 1., 1.,  ..., 1., 1., 1.]])"
      ]
     },
     "execution_count": 93,
     "metadata": {},
     "output_type": "execute_result"
    }
   ],
   "source": [
    "im = torch.Tensor(im) / 255.\n",
    "im"
   ]
  },
  {
   "cell_type": "code",
   "execution_count": 94,
   "metadata": {},
   "outputs": [
    {
     "data": {
      "text/plain": [
       "torch.Size([229, 325])"
      ]
     },
     "execution_count": 94,
     "metadata": {},
     "output_type": "execute_result"
    }
   ],
   "source": [
    "im.shape"
   ]
  },
  {
   "cell_type": "code",
   "execution_count": 101,
   "metadata": {},
   "outputs": [],
   "source": [
    "scaler = Resize(size=(150,300))"
   ]
  },
  {
   "cell_type": "code",
   "execution_count": 102,
   "metadata": {},
   "outputs": [
    {
     "name": "stdout",
     "output_type": "stream",
     "text": [
      "torch.Size([1, 150, 300])\n"
     ]
    }
   ],
   "source": [
    "im1 = scaler(im.unsqueeze(0))\n",
    "print(im1.shape)"
   ]
  },
  {
   "cell_type": "code",
   "execution_count": 103,
   "metadata": {},
   "outputs": [
    {
     "data": {
      "text/plain": [
       "<matplotlib.image.AxesImage at 0x7fad309bc898>"
      ]
     },
     "execution_count": 103,
     "metadata": {},
     "output_type": "execute_result"
    },
    {
     "data": {
      "image/png": "[encoded data removed]",
      "text/plain": [
       "<Figure size 432x288 with 1 Axes>"
      ]
     },
     "metadata": {
      "needs_background": "light"
     },
     "output_type": "display_data"
    }
   ],
   "source": [
    "plt.imshow(im1[0])"
   ]
  },
  {
   "cell_type": "markdown",
   "metadata": {},
   "source": [
    "## Analyze precomputed number of atoms\n",
    "\n",
    "After first doing some computations, we analyze the results and prepare the dataset for training the CNN."
   ]
  },
  {
   "cell_type": "code",
   "execution_count": 2,
   "metadata": {},
   "outputs": [
    {
     "name": "stdout",
     "output_type": "stream",
     "text": [
      "(2424186, 100)\n"
     ]
    },
    {
     "data": {
      "text/plain": [
       "array([[0, 0, 0, ..., 0, 0, 0],\n",
       "       [0, 0, 0, ..., 0, 0, 0],\n",
       "       [0, 0, 0, ..., 0, 0, 0],\n",
       "       ...,\n",
       "       [0, 0, 0, ..., 0, 0, 0],\n",
       "       [0, 0, 0, ..., 0, 0, 0],\n",
       "       [0, 0, 0, ..., 0, 0, 0]], dtype=int16)"
      ]
     },
     "execution_count": 2,
     "metadata": {},
     "output_type": "execute_result"
    }
   ],
   "source": [
    "a = np.load('data/pretrain1/atom_counts.npy')\n",
    "print(a.shape)\n",
    "a"
   ]
  },
  {
   "cell_type": "code",
   "execution_count": 4,
   "metadata": {},
   "outputs": [
    {
     "name": "stdout",
     "output_type": "stream",
     "text": [
      "(100,)\n"
     ]
    },
    {
     "data": {
      "text/plain": [
       "array([ 0,  0,  0,  0,  0,  1, 72,  8, 14,  6,  0,  0,  0,  0,  2,  2,  4,\n",
       "        5,  0,  0,  0,  0,  0,  0,  0,  0,  0,  0,  0,  0,  0,  0,  0,  0,\n",
       "        0,  2,  0,  0,  0,  0,  0,  0,  0,  0,  0,  0,  0,  0,  0,  0,  0,\n",
       "        0,  0,  1,  0,  0,  0,  0,  0,  0,  0,  0,  0,  0,  0,  0,  0,  0,\n",
       "        0,  0,  0,  0,  0,  0,  0,  0,  0,  0,  0,  0,  0,  0,  0,  0,  0,\n",
       "        0,  0,  0,  0,  0,  0,  0,  0,  0,  0,  0,  0,  0,  0,  0],\n",
       "      dtype=int16)"
      ]
     },
     "execution_count": 4,
     "metadata": {},
     "output_type": "execute_result"
    }
   ],
   "source": [
    "b = a.max(axis=0)\n",
    "print(b.shape)\n",
    "b"
   ]
  },
  {
   "cell_type": "markdown",
   "metadata": {},
   "source": [
    "We only need those atoms which are present in the dataset. Those which are rarely encountered can be easily omitted. The presented data was calculated only with the starting 10 000 pictures from the dataset. We can consider it to be representative, but not full. Ultimately, I believe that all zeros can be ignored."
   ]
  },
  {
   "cell_type": "code",
   "execution_count": 5,
   "metadata": {},
   "outputs": [
    {
     "data": {
      "text/plain": [
       "array([[ 5],\n",
       "       [ 6],\n",
       "       [ 7],\n",
       "       [ 8],\n",
       "       [ 9],\n",
       "       [14],\n",
       "       [15],\n",
       "       [16],\n",
       "       [17],\n",
       "       [35],\n",
       "       [53]])"
      ]
     },
     "execution_count": 5,
     "metadata": {},
     "output_type": "execute_result"
    }
   ],
   "source": [
    "np.argwhere(b > 0)"
   ]
  },
  {
   "cell_type": "markdown",
   "metadata": {},
   "source": [
    "These indices actually represent atomic numbers of the elements present in the dataset. Knowing this we can modify the existing \"compute_number_of_atoms.py\" file."
   ]
  },
  {
   "cell_type": "code",
   "execution_count": 13,
   "metadata": {},
   "outputs": [
    {
     "name": "stdout",
     "output_type": "stream",
     "text": [
      "(11,)\n"
     ]
    },
    {
     "data": {
      "text/plain": [
       "array([ 5,  6,  7,  8,  9, 14, 15, 16, 17, 35, 53])"
      ]
     },
     "execution_count": 13,
     "metadata": {},
     "output_type": "execute_result"
    }
   ],
   "source": [
    "c = np.argwhere(b > 0)[:,0]\n",
    "print(c.shape)\n",
    "c"
   ]
  },
  {
   "cell_type": "code",
   "execution_count": 15,
   "metadata": {},
   "outputs": [
    {
     "data": {
      "text/plain": [
       "array([ 5,  6,  7,  8,  9, 14, 15, 16, 17, 35])"
      ]
     },
     "execution_count": 15,
     "metadata": {},
     "output_type": "execute_result"
    }
   ],
   "source": [
    "c[:-1]"
   ]
  },
  {
   "cell_type": "markdown",
   "metadata": {},
   "source": [
    "## Prepare dataset for use with CNN"
   ]
  },
  {
   "cell_type": "code",
   "execution_count": 2,
   "metadata": {},
   "outputs": [],
   "source": [
    "def load_pic(image_id, is_train=True):\n",
    "    _ = 'train' if is_train else 'test'\n",
    "    directory = 'original_data/{}/{}/{}/{}/'.format(_, image_id[0], image_id[1], image_id[2])\n",
    "    return torch.Tensor(imageio.imread(directory + image_id + '.png') )"
   ]
  },
  {
   "cell_type": "code",
   "execution_count": 3,
   "metadata": {},
   "outputs": [],
   "source": [
    "class PretrainRegressionDataset(torch.utils.data.Dataset):\n",
    "    def __init__(self, file, y_file, x_size=256, y_size=256):\n",
    "        self.data = pd.read_csv(file)\n",
    "        #self.y = np.load(y_file) / 255.\n",
    "        self.y = torch.tensor(np.load(y_file), dtype=torch.float32)\n",
    "        self.y.to(device)\n",
    "        self.x_size = x_size\n",
    "        self.y_size = y_size\n",
    "        self.resize = Resize(size=(x_size,y_size))\n",
    "    \n",
    "    def __len__(self):\n",
    "        return self.data.shape[0]\n",
    "    \n",
    "    def __getitem__(self, index):\n",
    "        pic = load_pic(self.data['image_id'][index]).unsqueeze(0) # C=1 channel\n",
    "        pic = self.resize(pic) / 255.\n",
    "        # y = torch.tensor(y[index], dtype=torch.float32) # used to be smth like this\n",
    "        y = self.y[index]\n",
    "        return pic, y"
   ]
  },
  {
   "cell_type": "code",
   "execution_count": 4,
   "metadata": {},
   "outputs": [
    {
     "ename": "NameError",
     "evalue": "name 'cfg' is not defined",
     "output_type": "error",
     "traceback": [
      "\u001b[0;31m---------------------------------------------------------------------------\u001b[0m",
      "\u001b[0;31mNameError\u001b[0m                                 Traceback (most recent call last)",
      "\u001b[0;32m<ipython-input-4-f2be40a188eb>\u001b[0m in \u001b[0;36m<module>\u001b[0;34m\u001b[0m\n\u001b[1;32m      1\u001b[0m dataset = PretrainRegressionDataset('data/pretrain2/data_train_small.csv',\n\u001b[1;32m      2\u001b[0m                                     \u001b[0;34m'data/pretrain2/atom_counts_train_small.npy'\u001b[0m\u001b[0;34m,\u001b[0m\u001b[0;34m\u001b[0m\u001b[0;34m\u001b[0m\u001b[0m\n\u001b[0;32m----> 3\u001b[0;31m                                      x_size=cfg['x_size'], y_size=cfg['y_size'])\n\u001b[0m\u001b[1;32m      4\u001b[0m \u001b[0;34m\u001b[0m\u001b[0m\n\u001b[1;32m      5\u001b[0m \u001b[0mcount\u001b[0m \u001b[0;34m=\u001b[0m \u001b[0;36m0\u001b[0m\u001b[0;34m\u001b[0m\u001b[0;34m\u001b[0m\u001b[0m\n",
      "\u001b[0;31mNameError\u001b[0m: name 'cfg' is not defined"
     ]
    }
   ],
   "source": [
    "dataset = PretrainRegressionDataset('data/pretrain2/data_train_small.csv',\n",
    "                                    'data/pretrain2/atom_counts_train_small.npy',\n",
    "                                     x_size=cfg['x_size'], y_size=cfg['y_size'])\n",
    "\n",
    "count = 0\n",
    "for elem in dataset:\n",
    "    if count > 5: break\n",
    "    print(elem[0].shape)\n",
    "    print(elem)\n",
    "    count += 1\n",
    "\n",
    "del dataset"
   ]
  },
  {
   "cell_type": "code",
   "execution_count": 350,
   "metadata": {},
   "outputs": [
    {
     "data": {
      "text/plain": [
       "<matplotlib.image.AxesImage at 0x7fac85d3b128>"
      ]
     },
     "execution_count": 350,
     "metadata": {},
     "output_type": "execute_result"
    },
    {
     "data": {
      "image/png": "[encoded data removed]",
      "text/plain": [
       "<Figure size 432x288 with 1 Axes>"
      ]
     },
     "metadata": {
      "needs_background": "light"
     },
     "output_type": "display_data"
    }
   ],
   "source": [
    "plt.imshow(elem[0][0])"
   ]
  },
  {
   "cell_type": "code",
   "execution_count": null,
   "metadata": {},
   "outputs": [],
   "source": []
  },
  {
   "cell_type": "markdown",
   "metadata": {},
   "source": [
    "## Train / test split"
   ]
  },
  {
   "cell_type": "code",
   "execution_count": 19,
   "metadata": {},
   "outputs": [],
   "source": [
    "LENGTH = 1000000"
   ]
  },
  {
   "cell_type": "code",
   "execution_count": 20,
   "metadata": {},
   "outputs": [
    {
     "data": {
      "text/plain": [
       "(1000000, 2)"
      ]
     },
     "execution_count": 20,
     "metadata": {},
     "output_type": "execute_result"
    }
   ],
   "source": [
    "data = pd.read_csv('original_data/train_labels.csv')[:LENGTH]\n",
    "data.shape"
   ]
  },
  {
   "cell_type": "code",
   "execution_count": 24,
   "metadata": {},
   "outputs": [],
   "source": [
    "data_train, data_test, atom_counts_train, atom_counts_test = \\\n",
    "    train_test_split(data, np.load('data/pretrain2/atom_counts.npy'), test_size=0.2, random_state=35)"
   ]
  },
  {
   "cell_type": "code",
   "execution_count": 25,
   "metadata": {},
   "outputs": [
    {
     "data": {
      "text/html": [
       "<div>\n",
       "<style scoped>\n",
       "    .dataframe tbody tr th:only-of-type {\n",
       "        vertical-align: middle;\n",
       "    }\n",
       "\n",
       "    .dataframe tbody tr th {\n",
       "        vertical-align: top;\n",
       "    }\n",
       "\n",
       "    .dataframe thead th {\n",
       "        text-align: right;\n",
       "    }\n",
       "</style>\n",
       "<table border=\"1\" class=\"dataframe\">\n",
       "  <thead>\n",
       "    <tr style=\"text-align: right;\">\n",
       "      <th></th>\n",
       "      <th>image_id</th>\n",
       "      <th>InChI</th>\n",
       "    </tr>\n",
       "  </thead>\n",
       "  <tbody>\n",
       "    <tr>\n",
       "      <th>175569</th>\n",
       "      <td>1281bed2ee3a</td>\n",
       "      <td>InChI=1S/C6H9BrN2O2/c1-3-4(7)5(10)9(2)6(11)8-3...</td>\n",
       "    </tr>\n",
       "    <tr>\n",
       "      <th>834111</th>\n",
       "      <td>580775bd2a6b</td>\n",
       "      <td>InChI=1S/C14H22N2O4S/c1-9(2)8-21(18,19)12-6-16...</td>\n",
       "    </tr>\n",
       "    <tr>\n",
       "      <th>973026</th>\n",
       "      <td>66bb94ff2079</td>\n",
       "      <td>InChI=1S/C13H21N3/c1-16-9-7-13(11-14,8-10-16)1...</td>\n",
       "    </tr>\n",
       "    <tr>\n",
       "      <th>501799</th>\n",
       "      <td>34f40aa88d1c</td>\n",
       "      <td>InChI=1S/C21H31N7O/c1-14(29)24-17-8-10-27(12-1...</td>\n",
       "    </tr>\n",
       "    <tr>\n",
       "      <th>650344</th>\n",
       "      <td>449f6fdf7a6d</td>\n",
       "      <td>InChI=1S/C18H19F3N4O3/c1-11-23-24-16(28-11)14(...</td>\n",
       "    </tr>\n",
       "    <tr>\n",
       "      <th>...</th>\n",
       "      <td>...</td>\n",
       "      <td>...</td>\n",
       "    </tr>\n",
       "    <tr>\n",
       "      <th>56300</th>\n",
       "      <td>05e95868fdac</td>\n",
       "      <td>InChI=1S/C9H13N3S/c1-7-6-13-9-5-11-8(12(7)9)3-...</td>\n",
       "    </tr>\n",
       "    <tr>\n",
       "      <th>179233</th>\n",
       "      <td>12e5753b227e</td>\n",
       "      <td>InChI=1S/C12H15N3O3/c1-7-11(17)10(9(6-16)4-13-...</td>\n",
       "    </tr>\n",
       "    <tr>\n",
       "      <th>41911</th>\n",
       "      <td>0466037098cd</td>\n",
       "      <td>InChI=1S/C16H23N3O9/c1-6-9(20)7(11(22)13(24)10...</td>\n",
       "    </tr>\n",
       "    <tr>\n",
       "      <th>378127</th>\n",
       "      <td>27e76db21e27</td>\n",
       "      <td>InChI=1S/C12H20N2OS/c1-5-7-14(9(3)4)12-13-10(6...</td>\n",
       "    </tr>\n",
       "    <tr>\n",
       "      <th>202441</th>\n",
       "      <td>1558c4652985</td>\n",
       "      <td>InChI=1S/C42H25N3O/c1-3-13-26(14-4-1)39-43-40(...</td>\n",
       "    </tr>\n",
       "  </tbody>\n",
       "</table>\n",
       "<p>800000 rows × 2 columns</p>\n",
       "</div>"
      ],
      "text/plain": [
       "            image_id                                              InChI\n",
       "175569  1281bed2ee3a  InChI=1S/C6H9BrN2O2/c1-3-4(7)5(10)9(2)6(11)8-3...\n",
       "834111  580775bd2a6b  InChI=1S/C14H22N2O4S/c1-9(2)8-21(18,19)12-6-16...\n",
       "973026  66bb94ff2079  InChI=1S/C13H21N3/c1-16-9-7-13(11-14,8-10-16)1...\n",
       "501799  34f40aa88d1c  InChI=1S/C21H31N7O/c1-14(29)24-17-8-10-27(12-1...\n",
       "650344  449f6fdf7a6d  InChI=1S/C18H19F3N4O3/c1-11-23-24-16(28-11)14(...\n",
       "...              ...                                                ...\n",
       "56300   05e95868fdac  InChI=1S/C9H13N3S/c1-7-6-13-9-5-11-8(12(7)9)3-...\n",
       "179233  12e5753b227e  InChI=1S/C12H15N3O3/c1-7-11(17)10(9(6-16)4-13-...\n",
       "41911   0466037098cd  InChI=1S/C16H23N3O9/c1-6-9(20)7(11(22)13(24)10...\n",
       "378127  27e76db21e27  InChI=1S/C12H20N2OS/c1-5-7-14(9(3)4)12-13-10(6...\n",
       "202441  1558c4652985  InChI=1S/C42H25N3O/c1-3-13-26(14-4-1)39-43-40(...\n",
       "\n",
       "[800000 rows x 2 columns]"
      ]
     },
     "execution_count": 25,
     "metadata": {},
     "output_type": "execute_result"
    }
   ],
   "source": [
    "data_train"
   ]
  },
  {
   "cell_type": "code",
   "execution_count": 26,
   "metadata": {},
   "outputs": [
    {
     "data": {
      "text/html": [
       "<div>\n",
       "<style scoped>\n",
       "    .dataframe tbody tr th:only-of-type {\n",
       "        vertical-align: middle;\n",
       "    }\n",
       "\n",
       "    .dataframe tbody tr th {\n",
       "        vertical-align: top;\n",
       "    }\n",
       "\n",
       "    .dataframe thead th {\n",
       "        text-align: right;\n",
       "    }\n",
       "</style>\n",
       "<table border=\"1\" class=\"dataframe\">\n",
       "  <thead>\n",
       "    <tr style=\"text-align: right;\">\n",
       "      <th></th>\n",
       "      <th>image_id</th>\n",
       "      <th>InChI</th>\n",
       "    </tr>\n",
       "  </thead>\n",
       "  <tbody>\n",
       "    <tr>\n",
       "      <th>161130</th>\n",
       "      <td>10fa9e6bed97</td>\n",
       "      <td>InChI=1S/C11H14FN5O2S/c1-13-4-5-17-8-9(6-15-17...</td>\n",
       "    </tr>\n",
       "    <tr>\n",
       "      <th>690797</th>\n",
       "      <td>48e2b59ac565</td>\n",
       "      <td>InChI=1S/C12H16N6OS/c1-9-14-15-10(20-9)11(19)1...</td>\n",
       "    </tr>\n",
       "    <tr>\n",
       "      <th>298755</th>\n",
       "      <td>1f791731b1b5</td>\n",
       "      <td>InChI=1S/C8H14ClN3O/c1-6-8(9)7(12(2)11-6)5-13-...</td>\n",
       "    </tr>\n",
       "    <tr>\n",
       "      <th>105888</th>\n",
       "      <td>0b2f019dcc7f</td>\n",
       "      <td>InChI=1S/C15H20N2OS/c1-10-8-17(9-11(2)19-10)15...</td>\n",
       "    </tr>\n",
       "    <tr>\n",
       "      <th>641095</th>\n",
       "      <td>43a7ac609965</td>\n",
       "      <td>InChI=1S/C16H25ClN2/c1-2-19(15-9-4-3-5-10-15)1...</td>\n",
       "    </tr>\n",
       "    <tr>\n",
       "      <th>...</th>\n",
       "      <td>...</td>\n",
       "      <td>...</td>\n",
       "    </tr>\n",
       "    <tr>\n",
       "      <th>336556</th>\n",
       "      <td>237acce8112e</td>\n",
       "      <td>InChI=1S/C19H17ClN4/c20-15-3-1-4-16(10-15)24-1...</td>\n",
       "    </tr>\n",
       "    <tr>\n",
       "      <th>87642</th>\n",
       "      <td>093f87ef2ea4</td>\n",
       "      <td>InChI=1S/C9H9FO/c1-2-7-3-4-8(6-11)9(10)5-7/h3-...</td>\n",
       "    </tr>\n",
       "    <tr>\n",
       "      <th>159107</th>\n",
       "      <td>10c374e68e6d</td>\n",
       "      <td>InChI=1S/C14H12BrF3N2O/c1-8-5-10(15)3-4-11(8)2...</td>\n",
       "    </tr>\n",
       "    <tr>\n",
       "      <th>573707</th>\n",
       "      <td>3c88dd90a47a</td>\n",
       "      <td>InChI=1S/C18H24N6O2/c1-13-4-6-19-17(22-13)26-1...</td>\n",
       "    </tr>\n",
       "    <tr>\n",
       "      <th>608291</th>\n",
       "      <td>4032d4101bfc</td>\n",
       "      <td>InChI=1S/C27H29N3O4S/c1-20-18-22-19-25(12-13-2...</td>\n",
       "    </tr>\n",
       "  </tbody>\n",
       "</table>\n",
       "<p>200000 rows × 2 columns</p>\n",
       "</div>"
      ],
      "text/plain": [
       "            image_id                                              InChI\n",
       "161130  10fa9e6bed97  InChI=1S/C11H14FN5O2S/c1-13-4-5-17-8-9(6-15-17...\n",
       "690797  48e2b59ac565  InChI=1S/C12H16N6OS/c1-9-14-15-10(20-9)11(19)1...\n",
       "298755  1f791731b1b5  InChI=1S/C8H14ClN3O/c1-6-8(9)7(12(2)11-6)5-13-...\n",
       "105888  0b2f019dcc7f  InChI=1S/C15H20N2OS/c1-10-8-17(9-11(2)19-10)15...\n",
       "641095  43a7ac609965  InChI=1S/C16H25ClN2/c1-2-19(15-9-4-3-5-10-15)1...\n",
       "...              ...                                                ...\n",
       "336556  237acce8112e  InChI=1S/C19H17ClN4/c20-15-3-1-4-16(10-15)24-1...\n",
       "87642   093f87ef2ea4  InChI=1S/C9H9FO/c1-2-7-3-4-8(6-11)9(10)5-7/h3-...\n",
       "159107  10c374e68e6d  InChI=1S/C14H12BrF3N2O/c1-8-5-10(15)3-4-11(8)2...\n",
       "573707  3c88dd90a47a  InChI=1S/C18H24N6O2/c1-13-4-6-19-17(22-13)26-1...\n",
       "608291  4032d4101bfc  InChI=1S/C27H29N3O4S/c1-20-18-22-19-25(12-13-2...\n",
       "\n",
       "[200000 rows x 2 columns]"
      ]
     },
     "execution_count": 26,
     "metadata": {},
     "output_type": "execute_result"
    }
   ],
   "source": [
    "data_test"
   ]
  },
  {
   "cell_type": "code",
   "execution_count": 27,
   "metadata": {},
   "outputs": [],
   "source": [
    "data_train.to_csv('data/pretrain2/data_train.csv')\n",
    "data_test.to_csv( 'data/pretrain2/data_test.csv')\n",
    "del data_train\n",
    "del data_test\n",
    "del data\n",
    "np.save('data/pretrain2/atom_counts_train.npy', atom_counts_train)\n",
    "np.save('data/pretrain2/atom_counts_test.npy', atom_counts_test)\n",
    "del atom_counts_train\n",
    "del atom_counts_test"
   ]
  },
  {
   "cell_type": "markdown",
   "metadata": {},
   "source": [
    "#### Small dataset\n",
    "\n",
    "Same for the small dataset."
   ]
  },
  {
   "cell_type": "code",
   "execution_count": 302,
   "metadata": {},
   "outputs": [],
   "source": [
    "LENGTH = 10000\n",
    "data = pd.read_csv('original_data/train_labels.csv')[:LENGTH]\n",
    "data_train, data_test, atom_counts_train, atom_counts_test = \\\n",
    "    train_test_split(data, np.load('data/pretrain2/atom_counts.npy')[:LENGTH,:],test_size=0.2,random_state=35)\n",
    "data_train.to_csv('data/pretrain2/data_train_small.csv')\n",
    "data_test.to_csv( 'data/pretrain2/data_test_small.csv')\n",
    "del data_train\n",
    "del data_test\n",
    "del data\n",
    "np.save('data/pretrain2/atom_counts_train_small.npy', atom_counts_train)\n",
    "np.save('data/pretrain2/atom_counts_test_small.npy', atom_counts_test)\n",
    "del atom_counts_train\n",
    "del atom_counts_test"
   ]
  },
  {
   "cell_type": "markdown",
   "metadata": {},
   "source": [
    "## Defining Convolutional Neural Network"
   ]
  },
  {
   "cell_type": "code",
   "execution_count": 5,
   "metadata": {},
   "outputs": [],
   "source": [
    "class ConvBlock(nn.Module):\n",
    "    def __init__(self, in1, out1, in2, out2, st1=1, st2=1, dropout=0.2):\n",
    "        super(ConvBlock, self).__init__()\n",
    "        # nn.Conv2D(in_channels, out_channels, kernel_size=(,), stride)\n",
    "        self.conv1 = nn.Conv2d(in1, out1, kernel_size=(2,2), stride=st1)\n",
    "        self.conv2 = nn.Conv2d(in2, out2, kernel_size=(2,2), stride=st2)\n",
    "        self.relu  = nn.ReLU()\n",
    "        self.pool  = nn.MaxPool2d(kernel_size=(2,2))\n",
    "        self.bn    = nn.BatchNorm2d(out2)\n",
    "    \n",
    "    def forward(self, x):\n",
    "        x = self.conv1(x)\n",
    "        x = self.relu(x)\n",
    "        x = self.conv2(x)\n",
    "        x = self.bn(x)\n",
    "        x = self.relu(x)\n",
    "        x = self.pool(x)\n",
    "        return x"
   ]
  },
  {
   "cell_type": "code",
   "execution_count": 6,
   "metadata": {},
   "outputs": [],
   "source": [
    "class CNNEncoder(nn.Module):\n",
    "    def __init__(self, config):\n",
    "        super(CNNEncoder, self).__init__()\n",
    "        n_ch = config['n_channels']\n",
    "        i_ch = config['input_channels']\n",
    "        f1_len = config['fc_intermediate_len']\n",
    "        f2_len = config['output_channels'] # len(y)\n",
    "        self.conv_block_1 = ConvBlock(in1=i_ch, out1=n_ch, in2=n_ch, out2=n_ch, st1=2)\n",
    "        self.conv_block_2 = ConvBlock(in1=n_ch, out1=n_ch, in2=n_ch, out2=n_ch)\n",
    "        self.fc1 = nn.Linear(n_ch * 612, f1_len) # FIXME dimensions\n",
    "        self.fc2 = nn.Linear(f1_len, f2_len)\n",
    "        self.relu = nn.ReLU()\n",
    "        self.dropout=nn.Dropout(config['dropout'])\n",
    "    \n",
    "    def forward(self, x):\n",
    "        x = self.conv_block_1(x)\n",
    "        x = self.conv_block_2(x)\n",
    "        x = torch.flatten(x, 1)\n",
    "        x = self.dropout(x)\n",
    "        #print('\\n', x.shape, '\\n', sep='')\n",
    "        x = self.fc1(x)\n",
    "        x = self.relu(x)\n",
    "        x = self.dropout(x)\n",
    "        x = self.fc2(x)\n",
    "        x = self.relu(x)\n",
    "        return x"
   ]
  },
  {
   "cell_type": "code",
   "execution_count": 7,
   "metadata": {},
   "outputs": [
    {
     "data": {
      "text/plain": [
       "device(type='cuda')"
      ]
     },
     "execution_count": 7,
     "metadata": {},
     "output_type": "execute_result"
    }
   ],
   "source": [
    "device = torch.device('cuda' if torch.cuda.is_available() else 'cpu')\n",
    "device"
   ]
  },
  {
   "cell_type": "code",
   "execution_count": 8,
   "metadata": {},
   "outputs": [],
   "source": [
    "def calc_loss(cnn, data_loader, loss_type='mse'):\n",
    "    if loss_type =='mse': Loss = nn.MSELoss()\n",
    "    loss = 0.0\n",
    "    cnn.eval()\n",
    "    with torch.no_grad():\n",
    "        for x_batch, y_batch in data_loader:\n",
    "            x_batch, y_batch = x_batch.to(device), y_batch.to(device)\n",
    "            predictions = cnn(x_batch)\n",
    "            loss += Loss(predictions, y_batch).item()\n",
    "    return loss"
   ]
  },
  {
   "cell_type": "code",
   "execution_count": 9,
   "metadata": {},
   "outputs": [],
   "source": [
    "def train_epoch(data_loader, cnn, optimizer): #, criterion):\n",
    "    criterion = nn.MSELoss()\n",
    "    running_loss = 0.0\n",
    "    for x_batch, y_batch in tqdm(data_loader):\n",
    "        x_batch, y_batch = x_batch.to(device), y_batch.to(device)\n",
    "        optimizer.zero_grad()\n",
    "        predictions = cnn(x_batch)\n",
    "        loss = criterion(predictions, y_batch)\n",
    "        loss.backward()\n",
    "        running_loss += loss.item()\n",
    "        #prev_param = list(cnn.parameters())[15].data.clone()\n",
    "        optimizer.step()\n",
    "        #curr_param = list(cnn.parameters())[15].data.clone()\n",
    "        \"\"\"\n",
    "        if torch.all(torch.eq(prev_param, curr_param)):\n",
    "            print('\\nERROR:\\n')\n",
    "            print(prev_param)\n",
    "            print(curr_param)\n",
    "            break\n",
    "        else:\n",
    "            print('ok')\n",
    "            print(prev_param)\n",
    "            print(curr_param)\n",
    "            break\n",
    "        \"\"\"\n",
    "    print('running_loss after epoch is', running_loss)"
   ]
  },
  {
   "cell_type": "code",
   "execution_count": 21,
   "metadata": {},
   "outputs": [],
   "source": [
    "def train_model(dataset_train, dataset_test, cnn, n_epochs, batch_size):\n",
    "    data_train_loader = torch.utils.data.DataLoader(dataset_train, batch_size,\n",
    "                                                   num_workers=6, persistent_workers=False,pin_memory=True)\n",
    "    data_test_loader  = torch.utils.data.DataLoader(dataset_test, batch_size, num_workers=2)\n",
    "    #criterion = nn.MSELoss()\n",
    "    #optimizer = torch.optim.SGD(cnn.parameters(), lr=0.9)#, momentum=0.9, nesterov=True)\n",
    "    optimizer = torch.optim.Adam(cnn.parameters(), lr=0.01)\n",
    "    for i in range(n_epochs):\n",
    "        print('Starting epoch {}'.format(i))\n",
    "        cnn.train()\n",
    "        train_epoch(data_train_loader, cnn, optimizer)#, criterion)\n",
    "        train_loss = 'dummy'#calc_loss(cnn, data_train_loader)\n",
    "        test_loss = 'dummy'#calc_loss(cnn, data_test_loader)\n",
    "        print('Train loss:\\t', train_loss)\n",
    "        print('Test loss:\\t',  test_loss)"
   ]
  },
  {
   "cell_type": "markdown",
   "metadata": {},
   "source": [
    "#### Minor tests"
   ]
  },
  {
   "cell_type": "code",
   "execution_count": 137,
   "metadata": {},
   "outputs": [
    {
     "data": {
      "text/plain": [
       "tensor(2.4505)"
      ]
     },
     "execution_count": 137,
     "metadata": {},
     "output_type": "execute_result"
    }
   ],
   "source": [
    "with torch.no_grad():\n",
    "    Loss = nn.MSELoss()\n",
    "    target = torch.randn(3, 5)\n",
    "    input_ = torch.randn(3, 5)\n",
    "    out = Loss(input_, target)\n",
    "del Loss\n",
    "del target\n",
    "del input_\n",
    "out"
   ]
  },
  {
   "cell_type": "code",
   "execution_count": 139,
   "metadata": {},
   "outputs": [
    {
     "data": {
      "text/plain": [
       "True"
      ]
     },
     "execution_count": 139,
     "metadata": {},
     "output_type": "execute_result"
    }
   ],
   "source": [
    "out.grad is None"
   ]
  },
  {
   "cell_type": "code",
   "execution_count": 140,
   "metadata": {},
   "outputs": [
    {
     "data": {
      "text/plain": [
       "2.450530529022217"
      ]
     },
     "execution_count": 140,
     "metadata": {},
     "output_type": "execute_result"
    }
   ],
   "source": [
    "out.item()"
   ]
  },
  {
   "cell_type": "code",
   "execution_count": 265,
   "metadata": {
    "scrolled": true
   },
   "outputs": [
    {
     "data": {
      "text/plain": [
       "tensor(2.4505)"
      ]
     },
     "execution_count": 265,
     "metadata": {},
     "output_type": "execute_result"
    }
   ],
   "source": [
    "out.clone()"
   ]
  },
  {
   "cell_type": "markdown",
   "metadata": {},
   "source": [
    "## Config"
   ]
  },
  {
   "cell_type": "code",
   "execution_count": 13,
   "metadata": {},
   "outputs": [],
   "source": [
    "cfg = dict()\n",
    "cfg['n_channels'] = 50\n",
    "cfg['input_channels'] = 1\n",
    "cfg['output_channels'] = 11 # 100\n",
    "cfg['dropout'] = 0.2\n",
    "cfg['fc_intermediate_len'] = 200 # ? 128\n",
    "cfg['x_size'] = 150 # ? such order of dims\n",
    "cfg['y_size'] = 300 # ? such order of dims"
   ]
  },
  {
   "cell_type": "markdown",
   "metadata": {},
   "source": [
    "#### Initializing datasets"
   ]
  },
  {
   "cell_type": "code",
   "execution_count": 14,
   "metadata": {},
   "outputs": [],
   "source": [
    "\"\"\"\n",
    "dataset_train = PretrainRegressionDataset('data/pretrain2/data_train.csv',\n",
    "                                          'data/pretrain2/atom_counts_train.npy',\n",
    "                                           x_size=cfg['x_size'], y_size=cfg['y_size'])\n",
    "dataset_test = PretrainRegressionDataset('data/pretrain2/data_test.csv',\n",
    "                                          'data/pretrain2/atom_counts_test.npy',\n",
    "                                          x_size=cfg['x_size'], y_size=cfg['y_size'])\n",
    "\"\"\"\n",
    "dataset_train = PretrainRegressionDataset('data/pretrain2/data_train_small.csv',\n",
    "                                          'data/pretrain2/atom_counts_train_small.npy',\n",
    "                                           x_size=cfg['x_size'], y_size=cfg['y_size'])\n",
    "dataset_test = PretrainRegressionDataset('data/pretrain2/data_test_small.csv',\n",
    "                                          'data/pretrain2/atom_counts_test_small.npy',\n",
    "                                          x_size=cfg['x_size'], y_size=cfg['y_size'])"
   ]
  },
  {
   "cell_type": "code",
   "execution_count": 23,
   "metadata": {},
   "outputs": [],
   "source": [
    "cnn = CNNEncoder(cfg)"
   ]
  },
  {
   "cell_type": "code",
   "execution_count": 24,
   "metadata": {},
   "outputs": [],
   "source": [
    "gc.collect()\n",
    "torch.cuda.empty_cache()"
   ]
  },
  {
   "cell_type": "code",
   "execution_count": 25,
   "metadata": {},
   "outputs": [
    {
     "data": {
      "text/plain": [
       "CNNEncoder(\n",
       "  (conv_block_1): ConvBlock(\n",
       "    (conv1): Conv2d(1, 50, kernel_size=(2, 2), stride=(2, 2))\n",
       "    (conv2): Conv2d(50, 50, kernel_size=(2, 2), stride=(1, 1))\n",
       "    (relu): ReLU()\n",
       "    (pool): MaxPool2d(kernel_size=(2, 2), stride=(2, 2), padding=0, dilation=1, ceil_mode=False)\n",
       "    (bn): BatchNorm2d(50, eps=1e-05, momentum=0.1, affine=True, track_running_stats=True)\n",
       "  )\n",
       "  (conv_block_2): ConvBlock(\n",
       "    (conv1): Conv2d(50, 50, kernel_size=(2, 2), stride=(1, 1))\n",
       "    (conv2): Conv2d(50, 50, kernel_size=(2, 2), stride=(1, 1))\n",
       "    (relu): ReLU()\n",
       "    (pool): MaxPool2d(kernel_size=(2, 2), stride=(2, 2), padding=0, dilation=1, ceil_mode=False)\n",
       "    (bn): BatchNorm2d(50, eps=1e-05, momentum=0.1, affine=True, track_running_stats=True)\n",
       "  )\n",
       "  (fc1): Linear(in_features=30600, out_features=200, bias=True)\n",
       "  (fc2): Linear(in_features=200, out_features=11, bias=True)\n",
       "  (relu): ReLU()\n",
       "  (dropout): Dropout(p=0.2, inplace=False)\n",
       ")"
      ]
     },
     "execution_count": 25,
     "metadata": {},
     "output_type": "execute_result"
    }
   ],
   "source": [
    "cnn.to(device)"
   ]
  },
  {
   "cell_type": "code",
   "execution_count": 26,
   "metadata": {},
   "outputs": [
    {
     "name": "stderr",
     "output_type": "stream",
     "text": [
      "\r",
      "  0%|          | 0/160 [00:00<?, ?it/s]"
     ]
    },
    {
     "name": "stdout",
     "output_type": "stream",
     "text": [
      "Starting epoch 0\n"
     ]
    },
    {
     "name": "stderr",
     "output_type": "stream",
     "text": [
      "100%|██████████| 160/160 [00:20<00:00,  7.69it/s]\n",
      "  0%|          | 0/160 [00:00<?, ?it/s]"
     ]
    },
    {
     "name": "stdout",
     "output_type": "stream",
     "text": [
      "running_loss after epoch is 45243.7733669281\n",
      "Train loss:\t dummy\n",
      "Test loss:\t dummy\n",
      "Starting epoch 1\n"
     ]
    },
    {
     "name": "stderr",
     "output_type": "stream",
     "text": [
      "100%|██████████| 160/160 [00:20<00:00,  7.68it/s]\n",
      "  0%|          | 0/160 [00:00<?, ?it/s]"
     ]
    },
    {
     "name": "stdout",
     "output_type": "stream",
     "text": [
      "running_loss after epoch is 1487.5518848896027\n",
      "Train loss:\t dummy\n",
      "Test loss:\t dummy\n",
      "Starting epoch 2\n"
     ]
    },
    {
     "name": "stderr",
     "output_type": "stream",
     "text": [
      "100%|██████████| 160/160 [00:21<00:00,  7.60it/s]\n",
      "  0%|          | 0/160 [00:00<?, ?it/s]"
     ]
    },
    {
     "name": "stdout",
     "output_type": "stream",
     "text": [
      "running_loss after epoch is 1474.3192930221558\n",
      "Train loss:\t dummy\n",
      "Test loss:\t dummy\n",
      "Starting epoch 3\n"
     ]
    },
    {
     "name": "stderr",
     "output_type": "stream",
     "text": [
      "100%|██████████| 160/160 [00:20<00:00,  7.64it/s]\n",
      "  0%|          | 0/160 [00:00<?, ?it/s]"
     ]
    },
    {
     "name": "stdout",
     "output_type": "stream",
     "text": [
      "running_loss after epoch is 1435.3758068084717\n",
      "Train loss:\t dummy\n",
      "Test loss:\t dummy\n",
      "Starting epoch 4\n"
     ]
    },
    {
     "name": "stderr",
     "output_type": "stream",
     "text": [
      "100%|██████████| 160/160 [00:20<00:00,  7.66it/s]"
     ]
    },
    {
     "name": "stdout",
     "output_type": "stream",
     "text": [
      "running_loss after epoch is 1436.4188497066498\n",
      "Train loss:\t dummy\n",
      "Test loss:\t dummy\n",
      "CPU times: user 1min 18s, sys: 27.6 s, total: 1min 46s\n",
      "Wall time: 1min 44s\n"
     ]
    },
    {
     "name": "stderr",
     "output_type": "stream",
     "text": [
      "\n"
     ]
    }
   ],
   "source": [
    "%%time\n",
    "train_model(dataset_train, dataset_test, cnn, n_epochs=5, batch_size=50)"
   ]
  },
  {
   "cell_type": "code",
   "execution_count": 33,
   "metadata": {},
   "outputs": [],
   "source": [
    "torch.save(cnn.state_dict(), 'data/pretrain2/cnn1.model')"
   ]
  },
  {
   "cell_type": "code",
   "execution_count": 46,
   "metadata": {},
   "outputs": [
    {
     "data": {
      "text/plain": [
       "<All keys matched successfully>"
      ]
     },
     "execution_count": 46,
     "metadata": {},
     "output_type": "execute_result"
    }
   ],
   "source": [
    "cnn = CNNEncoder(cfg)\n",
    "cnn.load_state_dict(torch.load('data/pretrain2/cnn1.model'))"
   ]
  },
  {
   "cell_type": "code",
   "execution_count": 47,
   "metadata": {},
   "outputs": [],
   "source": [
    "gc.collect()\n",
    "torch.cuda.empty_cache()"
   ]
  },
  {
   "cell_type": "code",
   "execution_count": 48,
   "metadata": {},
   "outputs": [
    {
     "data": {
      "text/plain": [
       "CNNEncoder(\n",
       "  (conv_block_1): ConvBlock(\n",
       "    (conv1): Conv2d(1, 50, kernel_size=(2, 2), stride=(2, 2))\n",
       "    (conv2): Conv2d(50, 50, kernel_size=(2, 2), stride=(1, 1))\n",
       "    (relu): ReLU()\n",
       "    (pool): MaxPool2d(kernel_size=(2, 2), stride=(2, 2), padding=0, dilation=1, ceil_mode=False)\n",
       "    (bn): BatchNorm2d(50, eps=1e-05, momentum=0.1, affine=True, track_running_stats=True)\n",
       "  )\n",
       "  (conv_block_2): ConvBlock(\n",
       "    (conv1): Conv2d(50, 50, kernel_size=(2, 2), stride=(1, 1))\n",
       "    (conv2): Conv2d(50, 50, kernel_size=(2, 2), stride=(1, 1))\n",
       "    (relu): ReLU()\n",
       "    (pool): MaxPool2d(kernel_size=(2, 2), stride=(2, 2), padding=0, dilation=1, ceil_mode=False)\n",
       "    (bn): BatchNorm2d(50, eps=1e-05, momentum=0.1, affine=True, track_running_stats=True)\n",
       "  )\n",
       "  (fc1): Linear(in_features=30600, out_features=200, bias=True)\n",
       "  (fc2): Linear(in_features=200, out_features=11, bias=True)\n",
       "  (relu): ReLU()\n",
       "  (dropout): Dropout(p=0.2, inplace=False)\n",
       ")"
      ]
     },
     "execution_count": 48,
     "metadata": {},
     "output_type": "execute_result"
    }
   ],
   "source": [
    "cnn.to(device)"
   ]
  },
  {
   "cell_type": "code",
   "execution_count": 49,
   "metadata": {
    "scrolled": true
   },
   "outputs": [
    {
     "name": "stderr",
     "output_type": "stream",
     "text": [
      "\r",
      "  0%|          | 0/160 [00:00<?, ?it/s]"
     ]
    },
    {
     "name": "stdout",
     "output_type": "stream",
     "text": [
      "Starting epoch 0\n"
     ]
    },
    {
     "name": "stderr",
     "output_type": "stream",
     "text": [
      "100%|██████████| 160/160 [00:20<00:00,  7.92it/s]\n",
      "  0%|          | 0/160 [00:00<?, ?it/s]"
     ]
    },
    {
     "name": "stdout",
     "output_type": "stream",
     "text": [
      "running_loss after epoch is 817.8659634590149\n",
      "Train loss:\t dummy\n",
      "Test loss:\t dummy\n",
      "Starting epoch 1\n"
     ]
    },
    {
     "name": "stderr",
     "output_type": "stream",
     "text": [
      "100%|██████████| 160/160 [00:20<00:00,  7.91it/s]\n",
      "  0%|          | 0/160 [00:00<?, ?it/s]"
     ]
    },
    {
     "name": "stdout",
     "output_type": "stream",
     "text": [
      "running_loss after epoch is 839.4639675617218\n",
      "Train loss:\t dummy\n",
      "Test loss:\t dummy\n",
      "Starting epoch 2\n"
     ]
    },
    {
     "name": "stderr",
     "output_type": "stream",
     "text": [
      "100%|██████████| 160/160 [00:20<00:00,  7.92it/s]\n",
      "  0%|          | 0/160 [00:00<?, ?it/s]"
     ]
    },
    {
     "name": "stdout",
     "output_type": "stream",
     "text": [
      "running_loss after epoch is 860.1921463012695\n",
      "Train loss:\t dummy\n",
      "Test loss:\t dummy\n",
      "Starting epoch 3\n"
     ]
    },
    {
     "name": "stderr",
     "output_type": "stream",
     "text": [
      "100%|██████████| 160/160 [00:20<00:00,  7.91it/s]\n",
      "  0%|          | 0/160 [00:00<?, ?it/s]"
     ]
    },
    {
     "name": "stdout",
     "output_type": "stream",
     "text": [
      "running_loss after epoch is 813.1896641254425\n",
      "Train loss:\t dummy\n",
      "Test loss:\t dummy\n",
      "Starting epoch 4\n"
     ]
    },
    {
     "name": "stderr",
     "output_type": "stream",
     "text": [
      "100%|██████████| 160/160 [00:20<00:00,  7.92it/s]\n",
      "  0%|          | 0/160 [00:00<?, ?it/s]"
     ]
    },
    {
     "name": "stdout",
     "output_type": "stream",
     "text": [
      "running_loss after epoch is 839.1341006755829\n",
      "Train loss:\t dummy\n",
      "Test loss:\t dummy\n",
      "Starting epoch 5\n"
     ]
    },
    {
     "name": "stderr",
     "output_type": "stream",
     "text": [
      "100%|██████████| 160/160 [00:20<00:00,  7.92it/s]\n",
      "  0%|          | 0/160 [00:00<?, ?it/s]"
     ]
    },
    {
     "name": "stdout",
     "output_type": "stream",
     "text": [
      "running_loss after epoch is 815.0525312423706\n",
      "Train loss:\t dummy\n",
      "Test loss:\t dummy\n",
      "Starting epoch 6\n"
     ]
    },
    {
     "name": "stderr",
     "output_type": "stream",
     "text": [
      "100%|██████████| 160/160 [00:20<00:00,  7.92it/s]\n",
      "  0%|          | 0/160 [00:00<?, ?it/s]"
     ]
    },
    {
     "name": "stdout",
     "output_type": "stream",
     "text": [
      "running_loss after epoch is 801.459254026413\n",
      "Train loss:\t dummy\n",
      "Test loss:\t dummy\n",
      "Starting epoch 7\n"
     ]
    },
    {
     "name": "stderr",
     "output_type": "stream",
     "text": [
      "100%|██████████| 160/160 [00:20<00:00,  7.93it/s]\n",
      "  0%|          | 0/160 [00:00<?, ?it/s]"
     ]
    },
    {
     "name": "stdout",
     "output_type": "stream",
     "text": [
      "running_loss after epoch is 805.300062417984\n",
      "Train loss:\t dummy\n",
      "Test loss:\t dummy\n",
      "Starting epoch 8\n"
     ]
    },
    {
     "name": "stderr",
     "output_type": "stream",
     "text": [
      "100%|██████████| 160/160 [00:20<00:00,  7.92it/s]\n",
      "  0%|          | 0/160 [00:00<?, ?it/s]"
     ]
    },
    {
     "name": "stdout",
     "output_type": "stream",
     "text": [
      "running_loss after epoch is 801.017550945282\n",
      "Train loss:\t dummy\n",
      "Test loss:\t dummy\n",
      "Starting epoch 9\n"
     ]
    },
    {
     "name": "stderr",
     "output_type": "stream",
     "text": [
      "100%|██████████| 160/160 [00:20<00:00,  7.93it/s]\n",
      "  0%|          | 0/160 [00:00<?, ?it/s]"
     ]
    },
    {
     "name": "stdout",
     "output_type": "stream",
     "text": [
      "running_loss after epoch is 817.7927849292755\n",
      "Train loss:\t dummy\n",
      "Test loss:\t dummy\n",
      "Starting epoch 10\n"
     ]
    },
    {
     "name": "stderr",
     "output_type": "stream",
     "text": [
      "100%|██████████| 160/160 [00:20<00:00,  7.92it/s]\n",
      "  0%|          | 0/160 [00:00<?, ?it/s]"
     ]
    },
    {
     "name": "stdout",
     "output_type": "stream",
     "text": [
      "running_loss after epoch is 807.0460455417633\n",
      "Train loss:\t dummy\n",
      "Test loss:\t dummy\n",
      "Starting epoch 11\n"
     ]
    },
    {
     "name": "stderr",
     "output_type": "stream",
     "text": [
      "100%|██████████| 160/160 [00:20<00:00,  7.91it/s]\n",
      "  0%|          | 0/160 [00:00<?, ?it/s]"
     ]
    },
    {
     "name": "stdout",
     "output_type": "stream",
     "text": [
      "running_loss after epoch is 823.4693551063538\n",
      "Train loss:\t dummy\n",
      "Test loss:\t dummy\n",
      "Starting epoch 12\n"
     ]
    },
    {
     "name": "stderr",
     "output_type": "stream",
     "text": [
      "100%|██████████| 160/160 [00:20<00:00,  7.92it/s]\n",
      "  0%|          | 0/160 [00:00<?, ?it/s]"
     ]
    },
    {
     "name": "stdout",
     "output_type": "stream",
     "text": [
      "running_loss after epoch is 817.4551486968994\n",
      "Train loss:\t dummy\n",
      "Test loss:\t dummy\n",
      "Starting epoch 13\n"
     ]
    },
    {
     "name": "stderr",
     "output_type": "stream",
     "text": [
      "100%|██████████| 160/160 [00:20<00:00,  7.92it/s]\n",
      "  0%|          | 0/160 [00:00<?, ?it/s]"
     ]
    },
    {
     "name": "stdout",
     "output_type": "stream",
     "text": [
      "running_loss after epoch is 796.8217666149139\n",
      "Train loss:\t dummy\n",
      "Test loss:\t dummy\n",
      "Starting epoch 14\n"
     ]
    },
    {
     "name": "stderr",
     "output_type": "stream",
     "text": [
      "100%|██████████| 160/160 [00:20<00:00,  7.92it/s]\n",
      "  0%|          | 0/160 [00:00<?, ?it/s]"
     ]
    },
    {
     "name": "stdout",
     "output_type": "stream",
     "text": [
      "running_loss after epoch is 849.1962591409683\n",
      "Train loss:\t dummy\n",
      "Test loss:\t dummy\n",
      "Starting epoch 15\n"
     ]
    },
    {
     "name": "stderr",
     "output_type": "stream",
     "text": [
      "100%|██████████| 160/160 [00:20<00:00,  7.92it/s]\n",
      "  0%|          | 0/160 [00:00<?, ?it/s]"
     ]
    },
    {
     "name": "stdout",
     "output_type": "stream",
     "text": [
      "running_loss after epoch is 838.9715287685394\n",
      "Train loss:\t dummy\n",
      "Test loss:\t dummy\n",
      "Starting epoch 16\n"
     ]
    },
    {
     "name": "stderr",
     "output_type": "stream",
     "text": [
      "100%|██████████| 160/160 [00:20<00:00,  7.93it/s]\n",
      "  0%|          | 0/160 [00:00<?, ?it/s]"
     ]
    },
    {
     "name": "stdout",
     "output_type": "stream",
     "text": [
      "running_loss after epoch is 805.5852496623993\n",
      "Train loss:\t dummy\n",
      "Test loss:\t dummy\n",
      "Starting epoch 17\n"
     ]
    },
    {
     "name": "stderr",
     "output_type": "stream",
     "text": [
      "100%|██████████| 160/160 [00:20<00:00,  7.91it/s]\n",
      "  0%|          | 0/160 [00:00<?, ?it/s]"
     ]
    },
    {
     "name": "stdout",
     "output_type": "stream",
     "text": [
      "running_loss after epoch is 809.9471213817596\n",
      "Train loss:\t dummy\n",
      "Test loss:\t dummy\n",
      "Starting epoch 18\n"
     ]
    },
    {
     "name": "stderr",
     "output_type": "stream",
     "text": [
      "100%|██████████| 160/160 [00:20<00:00,  7.92it/s]\n",
      "  0%|          | 0/160 [00:00<?, ?it/s]"
     ]
    },
    {
     "name": "stdout",
     "output_type": "stream",
     "text": [
      "running_loss after epoch is 803.988508939743\n",
      "Train loss:\t dummy\n",
      "Test loss:\t dummy\n",
      "Starting epoch 19\n"
     ]
    },
    {
     "name": "stderr",
     "output_type": "stream",
     "text": [
      "100%|██████████| 160/160 [00:20<00:00,  7.92it/s]"
     ]
    },
    {
     "name": "stdout",
     "output_type": "stream",
     "text": [
      "running_loss after epoch is 837.1514089107513\n",
      "Train loss:\t dummy\n",
      "Test loss:\t dummy\n",
      "CPU times: user 5min 4s, sys: 1min 47s, total: 6min 52s\n",
      "Wall time: 6min 44s\n"
     ]
    },
    {
     "name": "stderr",
     "output_type": "stream",
     "text": [
      "\n"
     ]
    }
   ],
   "source": [
    "%%time\n",
    "train_model_4(dataset_train, dataset_test, cnn, n_epochs=20, batch_size=50)"
   ]
  },
  {
   "cell_type": "code",
   "execution_count": 45,
   "metadata": {},
   "outputs": [],
   "source": [
    "def train_model_4(dataset_train, dataset_test, cnn, n_epochs, batch_size):\n",
    "    data_train_loader = torch.utils.data.DataLoader(dataset_train, batch_size,\n",
    "                                                   num_workers=6, persistent_workers=False,pin_memory=True)\n",
    "    data_test_loader  = torch.utils.data.DataLoader(dataset_test, batch_size, num_workers=2)\n",
    "    #criterion = nn.MSELoss()\n",
    "    #optimizer = torch.optim.SGD(cnn.parameters(), lr=0.9)#, momentum=0.9, nesterov=True)\n",
    "    optimizer = torch.optim.Adam(cnn.parameters(), lr=0.000001)\n",
    "    for i in range(n_epochs):\n",
    "        print('Starting epoch {}'.format(i))\n",
    "        cnn.train()\n",
    "        train_epoch(data_train_loader, cnn, optimizer)#, criterion)\n",
    "        train_loss = 'dummy'#calc_loss(cnn, data_train_loader)\n",
    "        test_loss = 'dummy'#calc_loss(cnn, data_test_loader)\n",
    "        print('Train loss:\\t', train_loss)\n",
    "        print('Test loss:\\t',  test_loss)"
   ]
  },
  {
   "cell_type": "code",
   "execution_count": 258,
   "metadata": {},
   "outputs": [
    {
     "name": "stdout",
     "output_type": "stream",
     "text": [
      "16\n"
     ]
    }
   ],
   "source": [
    "a=list(cnn.parameters())\n",
    "print(len(a))"
   ]
  },
  {
   "cell_type": "code",
   "execution_count": 259,
   "metadata": {},
   "outputs": [
    {
     "data": {
      "text/plain": [
       "Parameter containing:\n",
       "tensor([-1.6010e+08, -1.6010e+08, -1.6010e+08, -1.6010e+08, -1.6010e+08,\n",
       "        -1.6010e+08, -1.6010e+08, -1.6010e+08, -1.6010e+08, -1.6010e+08,\n",
       "        -1.6010e+08], device='cuda:0', requires_grad=True)"
      ]
     },
     "execution_count": 259,
     "metadata": {},
     "output_type": "execute_result"
    }
   ],
   "source": [
    "a[15]"
   ]
  },
  {
   "cell_type": "code",
   "execution_count": 260,
   "metadata": {},
   "outputs": [
    {
     "data": {
      "text/plain": [
       "tensor([0.0160, 0.0104, 0.0450, 0.0106, 0.0207, 0.0180, 0.0353, 0.0211, 0.0088,\n",
       "        0.0190, 0.0212], device='cuda:0')"
      ]
     },
     "execution_count": 260,
     "metadata": {},
     "output_type": "execute_result"
    }
   ],
   "source": [
    "a[15].grad"
   ]
  },
  {
   "cell_type": "code",
   "execution_count": 263,
   "metadata": {},
   "outputs": [
    {
     "data": {
      "text/plain": [
       "tensor([-4.8014e-01,  1.5826e+08, -9.9223e+07,  1.6010e+08,  1.6010e+08,\n",
       "        -1.6010e+08,  1.2251e+08, -1.6010e+08, -1.6010e+08,  1.6008e+08,\n",
       "         1.6010e+08,  1.6000e+08, -4.3445e-01,  1.5483e+08,  1.6010e+08,\n",
       "        -1.5551e+08,  1.6006e+08,  1.6010e+08, -2.0903e-01, -1.5083e+08,\n",
       "        -1.6009e+08,  1.6010e+08,  1.6009e+08,  1.6010e+08,  1.6010e+08,\n",
       "        -1.6006e+08, -6.0362e-02,  1.6010e+08,  1.6010e+08,  1.6010e+08,\n",
       "        -1.6010e+08,  1.6009e+08, -1.6010e+08,  1.6010e+08, -1.6009e+08,\n",
       "        -1.6009e+08, -1.6010e+08, -1.6010e+08,  1.6010e+08, -1.6009e+08,\n",
       "         1.6010e+08, -1.6009e+08, -1.6010e+08, -1.5792e+08,  1.6010e+08,\n",
       "        -1.6010e+08,  1.6010e+08, -1.6009e+08,  1.6010e+08, -1.6010e+08],\n",
       "       device='cuda:0')"
      ]
     },
     "execution_count": 263,
     "metadata": {},
     "output_type": "execute_result"
    }
   ],
   "source": [
    "a[1].data"
   ]
  },
  {
   "cell_type": "code",
   "execution_count": null,
   "metadata": {},
   "outputs": [],
   "source": []
  }
 ],
 "metadata": {
  "kernelspec": {
   "display_name": "Python 3",
   "language": "python",
   "name": "python3"
  },
  "language_info": {
   "codemirror_mode": {
    "name": "ipython",
    "version": 3
   },
   "file_extension": ".py",
   "mimetype": "text/x-python",
   "name": "python",
   "nbconvert_exporter": "python",
   "pygments_lexer": "ipython3",
   "version": "3.6.9"
  }
 },
 "nbformat": 4,
 "nbformat_minor": 4
}
