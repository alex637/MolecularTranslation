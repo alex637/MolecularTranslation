{
 "cells": [
  {
   "cell_type": "code",
   "execution_count": 59,
   "metadata": {},
   "outputs": [],
   "source": [
    "import numpy as np\n",
    "import pandas as pd\n",
    "import matplotlib.pyplot as plt\n",
    "#import torch\n",
    "#from torch import nn\n",
    "\n",
    "from numba import njit\n",
    "from tqdm import tqdm\n",
    "\n",
    "from joblib import Parallel, delayed\n",
    "from functools import lru_cache\n",
    "#from multiprocessing import Pool"
   ]
  },
  {
   "cell_type": "code",
   "execution_count": 2,
   "metadata": {},
   "outputs": [
    {
     "data": {
      "text/html": [
       "<div>\n",
       "<style scoped>\n",
       "    .dataframe tbody tr th:only-of-type {\n",
       "        vertical-align: middle;\n",
       "    }\n",
       "\n",
       "    .dataframe tbody tr th {\n",
       "        vertical-align: top;\n",
       "    }\n",
       "\n",
       "    .dataframe thead th {\n",
       "        text-align: right;\n",
       "    }\n",
       "</style>\n",
       "<table border=\"1\" class=\"dataframe\">\n",
       "  <thead>\n",
       "    <tr style=\"text-align: right;\">\n",
       "      <th></th>\n",
       "      <th>image_id</th>\n",
       "      <th>InChI</th>\n",
       "    </tr>\n",
       "  </thead>\n",
       "  <tbody>\n",
       "    <tr>\n",
       "      <th>0</th>\n",
       "      <td>00000d2a601c</td>\n",
       "      <td>InChI=1S/H2O/h1H2</td>\n",
       "    </tr>\n",
       "    <tr>\n",
       "      <th>1</th>\n",
       "      <td>00001f7fc849</td>\n",
       "      <td>InChI=1S/H2O/h1H2</td>\n",
       "    </tr>\n",
       "    <tr>\n",
       "      <th>2</th>\n",
       "      <td>000037687605</td>\n",
       "      <td>InChI=1S/H2O/h1H2</td>\n",
       "    </tr>\n",
       "    <tr>\n",
       "      <th>3</th>\n",
       "      <td>00004b6d55b6</td>\n",
       "      <td>InChI=1S/H2O/h1H2</td>\n",
       "    </tr>\n",
       "    <tr>\n",
       "      <th>4</th>\n",
       "      <td>00004df0fe53</td>\n",
       "      <td>InChI=1S/H2O/h1H2</td>\n",
       "    </tr>\n",
       "    <tr>\n",
       "      <th>...</th>\n",
       "      <td>...</td>\n",
       "      <td>...</td>\n",
       "    </tr>\n",
       "    <tr>\n",
       "      <th>1616102</th>\n",
       "      <td>ffffcdb2e39e</td>\n",
       "      <td>InChI=1S/H2O/h1H2</td>\n",
       "    </tr>\n",
       "    <tr>\n",
       "      <th>1616103</th>\n",
       "      <td>ffffcfddd770</td>\n",
       "      <td>InChI=1S/H2O/h1H2</td>\n",
       "    </tr>\n",
       "    <tr>\n",
       "      <th>1616104</th>\n",
       "      <td>ffffe4ab06b2</td>\n",
       "      <td>InChI=1S/H2O/h1H2</td>\n",
       "    </tr>\n",
       "    <tr>\n",
       "      <th>1616105</th>\n",
       "      <td>ffffec4033ec</td>\n",
       "      <td>InChI=1S/H2O/h1H2</td>\n",
       "    </tr>\n",
       "    <tr>\n",
       "      <th>1616106</th>\n",
       "      <td>fffffbebd4f5</td>\n",
       "      <td>InChI=1S/H2O/h1H2</td>\n",
       "    </tr>\n",
       "  </tbody>\n",
       "</table>\n",
       "<p>1616107 rows × 2 columns</p>\n",
       "</div>"
      ],
      "text/plain": [
       "             image_id              InChI\n",
       "0        00000d2a601c  InChI=1S/H2O/h1H2\n",
       "1        00001f7fc849  InChI=1S/H2O/h1H2\n",
       "2        000037687605  InChI=1S/H2O/h1H2\n",
       "3        00004b6d55b6  InChI=1S/H2O/h1H2\n",
       "4        00004df0fe53  InChI=1S/H2O/h1H2\n",
       "...               ...                ...\n",
       "1616102  ffffcdb2e39e  InChI=1S/H2O/h1H2\n",
       "1616103  ffffcfddd770  InChI=1S/H2O/h1H2\n",
       "1616104  ffffe4ab06b2  InChI=1S/H2O/h1H2\n",
       "1616105  ffffec4033ec  InChI=1S/H2O/h1H2\n",
       "1616106  fffffbebd4f5  InChI=1S/H2O/h1H2\n",
       "\n",
       "[1616107 rows x 2 columns]"
      ]
     },
     "execution_count": 2,
     "metadata": {},
     "output_type": "execute_result"
    }
   ],
   "source": [
    "sample = pd.read_csv('original_data/sample_submission.csv')\n",
    "sample"
   ]
  },
  {
   "cell_type": "code",
   "execution_count": 8,
   "metadata": {},
   "outputs": [
    {
     "name": "stdout",
     "output_type": "stream",
     "text": [
      "1616107\r\n"
     ]
    }
   ],
   "source": [
    "!ls -lR original_data/test/ | grep '.png' | wc -l"
   ]
  },
  {
   "cell_type": "markdown",
   "metadata": {},
   "source": [
    "### Total: 1616107 test pictures."
   ]
  },
  {
   "cell_type": "markdown",
   "metadata": {},
   "source": [
    "#### Submission 1.\n",
    "\n",
    "Submitting their file with constant weights results in score 110. "
   ]
  },
  {
   "cell_type": "markdown",
   "metadata": {},
   "source": [
    "## Randomly chosing from train"
   ]
  },
  {
   "cell_type": "code",
   "execution_count": 9,
   "metadata": {},
   "outputs": [
    {
     "data": {
      "text/html": [
       "<div>\n",
       "<style scoped>\n",
       "    .dataframe tbody tr th:only-of-type {\n",
       "        vertical-align: middle;\n",
       "    }\n",
       "\n",
       "    .dataframe tbody tr th {\n",
       "        vertical-align: top;\n",
       "    }\n",
       "\n",
       "    .dataframe thead th {\n",
       "        text-align: right;\n",
       "    }\n",
       "</style>\n",
       "<table border=\"1\" class=\"dataframe\">\n",
       "  <thead>\n",
       "    <tr style=\"text-align: right;\">\n",
       "      <th></th>\n",
       "      <th>image_id</th>\n",
       "      <th>InChI</th>\n",
       "    </tr>\n",
       "  </thead>\n",
       "  <tbody>\n",
       "    <tr>\n",
       "      <th>0</th>\n",
       "      <td>000011a64c74</td>\n",
       "      <td>InChI=1S/C13H20OS/c1-9(2)8-15-13-6-5-10(3)7-12...</td>\n",
       "    </tr>\n",
       "    <tr>\n",
       "      <th>1</th>\n",
       "      <td>000019cc0cd2</td>\n",
       "      <td>InChI=1S/C21H30O4/c1-12(22)25-14-6-8-20(2)13(1...</td>\n",
       "    </tr>\n",
       "    <tr>\n",
       "      <th>2</th>\n",
       "      <td>0000252b6d2b</td>\n",
       "      <td>InChI=1S/C24H23N5O4/c1-14-13-15(7-8-17(14)28-1...</td>\n",
       "    </tr>\n",
       "    <tr>\n",
       "      <th>3</th>\n",
       "      <td>000026b49b7e</td>\n",
       "      <td>InChI=1S/C17H24N2O4S/c1-12(20)18-13(14-7-6-10-...</td>\n",
       "    </tr>\n",
       "    <tr>\n",
       "      <th>4</th>\n",
       "      <td>000026fc6c36</td>\n",
       "      <td>InChI=1S/C10H19N3O2S/c1-15-10(14)12-8-4-6-13(7...</td>\n",
       "    </tr>\n",
       "    <tr>\n",
       "      <th>...</th>\n",
       "      <td>...</td>\n",
       "      <td>...</td>\n",
       "    </tr>\n",
       "    <tr>\n",
       "      <th>2424181</th>\n",
       "      <td>ffffe824f539</td>\n",
       "      <td>InChI=1S/C10H12F2N2O3/c1-17-7-2-5(3-8(15)16)9(...</td>\n",
       "    </tr>\n",
       "    <tr>\n",
       "      <th>2424182</th>\n",
       "      <td>ffffea1ebdfa</td>\n",
       "      <td>InChI=1S/C19H20F2N4O3S/c1-10(8-20)28-14-7-12(2...</td>\n",
       "    </tr>\n",
       "    <tr>\n",
       "      <th>2424183</th>\n",
       "      <td>ffffee2b4534</td>\n",
       "      <td>InChI=1S/C22H26Cl2N2O4S/c1-16-6-2-3-10-21(16)3...</td>\n",
       "    </tr>\n",
       "    <tr>\n",
       "      <th>2424184</th>\n",
       "      <td>fffff0b6eea6</td>\n",
       "      <td>InChI=1S/C17H26N2O6S/c1-23-16-12-14(4-5-15(16)...</td>\n",
       "    </tr>\n",
       "    <tr>\n",
       "      <th>2424185</th>\n",
       "      <td>fffff608dd38</td>\n",
       "      <td>InChI=1S/C10H18N2O9P2/c1-7-10(13)9(5-11-2-3-20...</td>\n",
       "    </tr>\n",
       "  </tbody>\n",
       "</table>\n",
       "<p>2424186 rows × 2 columns</p>\n",
       "</div>"
      ],
      "text/plain": [
       "             image_id                                              InChI\n",
       "0        000011a64c74  InChI=1S/C13H20OS/c1-9(2)8-15-13-6-5-10(3)7-12...\n",
       "1        000019cc0cd2  InChI=1S/C21H30O4/c1-12(22)25-14-6-8-20(2)13(1...\n",
       "2        0000252b6d2b  InChI=1S/C24H23N5O4/c1-14-13-15(7-8-17(14)28-1...\n",
       "3        000026b49b7e  InChI=1S/C17H24N2O4S/c1-12(20)18-13(14-7-6-10-...\n",
       "4        000026fc6c36  InChI=1S/C10H19N3O2S/c1-15-10(14)12-8-4-6-13(7...\n",
       "...               ...                                                ...\n",
       "2424181  ffffe824f539  InChI=1S/C10H12F2N2O3/c1-17-7-2-5(3-8(15)16)9(...\n",
       "2424182  ffffea1ebdfa  InChI=1S/C19H20F2N4O3S/c1-10(8-20)28-14-7-12(2...\n",
       "2424183  ffffee2b4534  InChI=1S/C22H26Cl2N2O4S/c1-16-6-2-3-10-21(16)3...\n",
       "2424184  fffff0b6eea6  InChI=1S/C17H26N2O6S/c1-23-16-12-14(4-5-15(16)...\n",
       "2424185  fffff608dd38  InChI=1S/C10H18N2O9P2/c1-7-10(13)9(5-11-2-3-20...\n",
       "\n",
       "[2424186 rows x 2 columns]"
      ]
     },
     "execution_count": 9,
     "metadata": {},
     "output_type": "execute_result"
    }
   ],
   "source": [
    "train = pd.read_csv('original_data/train_labels.csv')\n",
    "train"
   ]
  },
  {
   "cell_type": "code",
   "execution_count": 13,
   "metadata": {},
   "outputs": [],
   "source": [
    "tmp = train.sample(1616107) # randomly choosing InChI strings from train"
   ]
  },
  {
   "cell_type": "code",
   "execution_count": 14,
   "metadata": {},
   "outputs": [
    {
     "data": {
      "text/html": [
       "<div>\n",
       "<style scoped>\n",
       "    .dataframe tbody tr th:only-of-type {\n",
       "        vertical-align: middle;\n",
       "    }\n",
       "\n",
       "    .dataframe tbody tr th {\n",
       "        vertical-align: top;\n",
       "    }\n",
       "\n",
       "    .dataframe thead th {\n",
       "        text-align: right;\n",
       "    }\n",
       "</style>\n",
       "<table border=\"1\" class=\"dataframe\">\n",
       "  <thead>\n",
       "    <tr style=\"text-align: right;\">\n",
       "      <th></th>\n",
       "      <th>image_id</th>\n",
       "      <th>InChI</th>\n",
       "    </tr>\n",
       "  </thead>\n",
       "  <tbody>\n",
       "    <tr>\n",
       "      <th>704553</th>\n",
       "      <td>4a55b75d3503</td>\n",
       "      <td>InChI=1S/C18H18N2O2/c1-13-6-8-15(9-7-13)10-11-...</td>\n",
       "    </tr>\n",
       "    <tr>\n",
       "      <th>912558</th>\n",
       "      <td>604ae8809c63</td>\n",
       "      <td>InChI=1S/C11H14N2O4S/c1-8(7-12)18(14,15)13-9-4...</td>\n",
       "    </tr>\n",
       "    <tr>\n",
       "      <th>519992</th>\n",
       "      <td>36df81dcc05b</td>\n",
       "      <td>InChI=1S/C22H35FO4/c1-4-5-14-22(2,3)20(25)13-1...</td>\n",
       "    </tr>\n",
       "    <tr>\n",
       "      <th>779305</th>\n",
       "      <td>523c659bfd79</td>\n",
       "      <td>InChI=1S/C11H13Cl2NO/c1-11(4-5-14-7-11)15-8-2-...</td>\n",
       "    </tr>\n",
       "    <tr>\n",
       "      <th>1675050</th>\n",
       "      <td>b0d89905462b</td>\n",
       "      <td>InChI=1S/C18H21FN4S/c1-13(8-16-4-3-7-24-16)11-...</td>\n",
       "    </tr>\n",
       "    <tr>\n",
       "      <th>...</th>\n",
       "      <td>...</td>\n",
       "      <td>...</td>\n",
       "    </tr>\n",
       "    <tr>\n",
       "      <th>2334883</th>\n",
       "      <td>f68e106af93a</td>\n",
       "      <td>InChI=1S/C21H25NO3/c23-17-5-8-20-19(9-13-25-21...</td>\n",
       "    </tr>\n",
       "    <tr>\n",
       "      <th>166885</th>\n",
       "      <td>119509503bc3</td>\n",
       "      <td>InChI=1S/C21H27ClN6O4/c1-20(2,3)15-14(22)17-25...</td>\n",
       "    </tr>\n",
       "    <tr>\n",
       "      <th>1714230</th>\n",
       "      <td>b4fc12d8f987</td>\n",
       "      <td>InChI=1S/C26H29F5N8O3/c27-19(4-8-38-9-5-20(23(...</td>\n",
       "    </tr>\n",
       "    <tr>\n",
       "      <th>2354898</th>\n",
       "      <td>f8a6e8e90ef0</td>\n",
       "      <td>InChI=1S/C18H17N3O3/c1-3-15(18(23)24)21-16-5-4...</td>\n",
       "    </tr>\n",
       "    <tr>\n",
       "      <th>2140628</th>\n",
       "      <td>e1feb93b5f4c</td>\n",
       "      <td>InChI=1S/C22H17N5O4/c1-26-19(15(10-23)11-24-26...</td>\n",
       "    </tr>\n",
       "  </tbody>\n",
       "</table>\n",
       "<p>1616107 rows × 2 columns</p>\n",
       "</div>"
      ],
      "text/plain": [
       "             image_id                                              InChI\n",
       "704553   4a55b75d3503  InChI=1S/C18H18N2O2/c1-13-6-8-15(9-7-13)10-11-...\n",
       "912558   604ae8809c63  InChI=1S/C11H14N2O4S/c1-8(7-12)18(14,15)13-9-4...\n",
       "519992   36df81dcc05b  InChI=1S/C22H35FO4/c1-4-5-14-22(2,3)20(25)13-1...\n",
       "779305   523c659bfd79  InChI=1S/C11H13Cl2NO/c1-11(4-5-14-7-11)15-8-2-...\n",
       "1675050  b0d89905462b  InChI=1S/C18H21FN4S/c1-13(8-16-4-3-7-24-16)11-...\n",
       "...               ...                                                ...\n",
       "2334883  f68e106af93a  InChI=1S/C21H25NO3/c23-17-5-8-20-19(9-13-25-21...\n",
       "166885   119509503bc3  InChI=1S/C21H27ClN6O4/c1-20(2,3)15-14(22)17-25...\n",
       "1714230  b4fc12d8f987  InChI=1S/C26H29F5N8O3/c27-19(4-8-38-9-5-20(23(...\n",
       "2354898  f8a6e8e90ef0  InChI=1S/C18H17N3O3/c1-3-15(18(23)24)21-16-5-4...\n",
       "2140628  e1feb93b5f4c  InChI=1S/C22H17N5O4/c1-26-19(15(10-23)11-24-26...\n",
       "\n",
       "[1616107 rows x 2 columns]"
      ]
     },
     "execution_count": 14,
     "metadata": {},
     "output_type": "execute_result"
    }
   ],
   "source": [
    "tmp"
   ]
  },
  {
   "cell_type": "code",
   "execution_count": 16,
   "metadata": {},
   "outputs": [
    {
     "data": {
      "text/html": [
       "<div>\n",
       "<style scoped>\n",
       "    .dataframe tbody tr th:only-of-type {\n",
       "        vertical-align: middle;\n",
       "    }\n",
       "\n",
       "    .dataframe tbody tr th {\n",
       "        vertical-align: top;\n",
       "    }\n",
       "\n",
       "    .dataframe thead th {\n",
       "        text-align: right;\n",
       "    }\n",
       "</style>\n",
       "<table border=\"1\" class=\"dataframe\">\n",
       "  <thead>\n",
       "    <tr style=\"text-align: right;\">\n",
       "      <th></th>\n",
       "      <th>image_id</th>\n",
       "      <th>InChI</th>\n",
       "    </tr>\n",
       "  </thead>\n",
       "  <tbody>\n",
       "    <tr>\n",
       "      <th>0</th>\n",
       "      <td>00000d2a601c</td>\n",
       "      <td>InChI=1S/C18H18N2O2/c1-13-6-8-15(9-7-13)10-11-...</td>\n",
       "    </tr>\n",
       "    <tr>\n",
       "      <th>1</th>\n",
       "      <td>00001f7fc849</td>\n",
       "      <td>InChI=1S/C11H14N2O4S/c1-8(7-12)18(14,15)13-9-4...</td>\n",
       "    </tr>\n",
       "    <tr>\n",
       "      <th>2</th>\n",
       "      <td>000037687605</td>\n",
       "      <td>InChI=1S/C22H35FO4/c1-4-5-14-22(2,3)20(25)13-1...</td>\n",
       "    </tr>\n",
       "    <tr>\n",
       "      <th>3</th>\n",
       "      <td>00004b6d55b6</td>\n",
       "      <td>InChI=1S/C11H13Cl2NO/c1-11(4-5-14-7-11)15-8-2-...</td>\n",
       "    </tr>\n",
       "    <tr>\n",
       "      <th>4</th>\n",
       "      <td>00004df0fe53</td>\n",
       "      <td>InChI=1S/C18H21FN4S/c1-13(8-16-4-3-7-24-16)11-...</td>\n",
       "    </tr>\n",
       "    <tr>\n",
       "      <th>...</th>\n",
       "      <td>...</td>\n",
       "      <td>...</td>\n",
       "    </tr>\n",
       "    <tr>\n",
       "      <th>1616102</th>\n",
       "      <td>ffffcdb2e39e</td>\n",
       "      <td>InChI=1S/C21H25NO3/c23-17-5-8-20-19(9-13-25-21...</td>\n",
       "    </tr>\n",
       "    <tr>\n",
       "      <th>1616103</th>\n",
       "      <td>ffffcfddd770</td>\n",
       "      <td>InChI=1S/C21H27ClN6O4/c1-20(2,3)15-14(22)17-25...</td>\n",
       "    </tr>\n",
       "    <tr>\n",
       "      <th>1616104</th>\n",
       "      <td>ffffe4ab06b2</td>\n",
       "      <td>InChI=1S/C26H29F5N8O3/c27-19(4-8-38-9-5-20(23(...</td>\n",
       "    </tr>\n",
       "    <tr>\n",
       "      <th>1616105</th>\n",
       "      <td>ffffec4033ec</td>\n",
       "      <td>InChI=1S/C18H17N3O3/c1-3-15(18(23)24)21-16-5-4...</td>\n",
       "    </tr>\n",
       "    <tr>\n",
       "      <th>1616106</th>\n",
       "      <td>fffffbebd4f5</td>\n",
       "      <td>InChI=1S/C22H17N5O4/c1-26-19(15(10-23)11-24-26...</td>\n",
       "    </tr>\n",
       "  </tbody>\n",
       "</table>\n",
       "<p>1616107 rows × 2 columns</p>\n",
       "</div>"
      ],
      "text/plain": [
       "             image_id                                              InChI\n",
       "0        00000d2a601c  InChI=1S/C18H18N2O2/c1-13-6-8-15(9-7-13)10-11-...\n",
       "1        00001f7fc849  InChI=1S/C11H14N2O4S/c1-8(7-12)18(14,15)13-9-4...\n",
       "2        000037687605  InChI=1S/C22H35FO4/c1-4-5-14-22(2,3)20(25)13-1...\n",
       "3        00004b6d55b6  InChI=1S/C11H13Cl2NO/c1-11(4-5-14-7-11)15-8-2-...\n",
       "4        00004df0fe53  InChI=1S/C18H21FN4S/c1-13(8-16-4-3-7-24-16)11-...\n",
       "...               ...                                                ...\n",
       "1616102  ffffcdb2e39e  InChI=1S/C21H25NO3/c23-17-5-8-20-19(9-13-25-21...\n",
       "1616103  ffffcfddd770  InChI=1S/C21H27ClN6O4/c1-20(2,3)15-14(22)17-25...\n",
       "1616104  ffffe4ab06b2  InChI=1S/C26H29F5N8O3/c27-19(4-8-38-9-5-20(23(...\n",
       "1616105  ffffec4033ec  InChI=1S/C18H17N3O3/c1-3-15(18(23)24)21-16-5-4...\n",
       "1616106  fffffbebd4f5  InChI=1S/C22H17N5O4/c1-26-19(15(10-23)11-24-26...\n",
       "\n",
       "[1616107 rows x 2 columns]"
      ]
     },
     "execution_count": 16,
     "metadata": {},
     "output_type": "execute_result"
    }
   ],
   "source": [
    "sample['InChI'][:] = tmp['InChI'][:]\n",
    "sample"
   ]
  },
  {
   "cell_type": "code",
   "execution_count": 18,
   "metadata": {},
   "outputs": [],
   "source": [
    "sample.to_csv('submissions/random_from_train.csv')"
   ]
  },
  {
   "cell_type": "code",
   "execution_count": 28,
   "metadata": {},
   "outputs": [
    {
     "data": {
      "text/html": [
       "<div>\n",
       "<style scoped>\n",
       "    .dataframe tbody tr th:only-of-type {\n",
       "        vertical-align: middle;\n",
       "    }\n",
       "\n",
       "    .dataframe tbody tr th {\n",
       "        vertical-align: top;\n",
       "    }\n",
       "\n",
       "    .dataframe thead th {\n",
       "        text-align: right;\n",
       "    }\n",
       "</style>\n",
       "<table border=\"1\" class=\"dataframe\">\n",
       "  <thead>\n",
       "    <tr style=\"text-align: right;\">\n",
       "      <th></th>\n",
       "      <th>Unnamed: 0</th>\n",
       "      <th>Unnamed: 0.1</th>\n",
       "      <th>image_id</th>\n",
       "      <th>InChI</th>\n",
       "    </tr>\n",
       "  </thead>\n",
       "  <tbody>\n",
       "    <tr>\n",
       "      <th>0</th>\n",
       "      <td>0</td>\n",
       "      <td>0</td>\n",
       "      <td>00000d2a601c</td>\n",
       "      <td>InChI=1S/C18H18N2O2/c1-13-6-8-15(9-7-13)10-11-...</td>\n",
       "    </tr>\n",
       "    <tr>\n",
       "      <th>1</th>\n",
       "      <td>1</td>\n",
       "      <td>1</td>\n",
       "      <td>00001f7fc849</td>\n",
       "      <td>InChI=1S/C11H14N2O4S/c1-8(7-12)18(14,15)13-9-4...</td>\n",
       "    </tr>\n",
       "    <tr>\n",
       "      <th>2</th>\n",
       "      <td>2</td>\n",
       "      <td>2</td>\n",
       "      <td>000037687605</td>\n",
       "      <td>InChI=1S/C22H35FO4/c1-4-5-14-22(2,3)20(25)13-1...</td>\n",
       "    </tr>\n",
       "    <tr>\n",
       "      <th>3</th>\n",
       "      <td>3</td>\n",
       "      <td>3</td>\n",
       "      <td>00004b6d55b6</td>\n",
       "      <td>InChI=1S/C11H13Cl2NO/c1-11(4-5-14-7-11)15-8-2-...</td>\n",
       "    </tr>\n",
       "    <tr>\n",
       "      <th>4</th>\n",
       "      <td>4</td>\n",
       "      <td>4</td>\n",
       "      <td>00004df0fe53</td>\n",
       "      <td>InChI=1S/C18H21FN4S/c1-13(8-16-4-3-7-24-16)11-...</td>\n",
       "    </tr>\n",
       "    <tr>\n",
       "      <th>...</th>\n",
       "      <td>...</td>\n",
       "      <td>...</td>\n",
       "      <td>...</td>\n",
       "      <td>...</td>\n",
       "    </tr>\n",
       "    <tr>\n",
       "      <th>1616102</th>\n",
       "      <td>1616102</td>\n",
       "      <td>1616102</td>\n",
       "      <td>ffffcdb2e39e</td>\n",
       "      <td>InChI=1S/C21H25NO3/c23-17-5-8-20-19(9-13-25-21...</td>\n",
       "    </tr>\n",
       "    <tr>\n",
       "      <th>1616103</th>\n",
       "      <td>1616103</td>\n",
       "      <td>1616103</td>\n",
       "      <td>ffffcfddd770</td>\n",
       "      <td>InChI=1S/C21H27ClN6O4/c1-20(2,3)15-14(22)17-25...</td>\n",
       "    </tr>\n",
       "    <tr>\n",
       "      <th>1616104</th>\n",
       "      <td>1616104</td>\n",
       "      <td>1616104</td>\n",
       "      <td>ffffe4ab06b2</td>\n",
       "      <td>InChI=1S/C26H29F5N8O3/c27-19(4-8-38-9-5-20(23(...</td>\n",
       "    </tr>\n",
       "    <tr>\n",
       "      <th>1616105</th>\n",
       "      <td>1616105</td>\n",
       "      <td>1616105</td>\n",
       "      <td>ffffec4033ec</td>\n",
       "      <td>InChI=1S/C18H17N3O3/c1-3-15(18(23)24)21-16-5-4...</td>\n",
       "    </tr>\n",
       "    <tr>\n",
       "      <th>1616106</th>\n",
       "      <td>1616106</td>\n",
       "      <td>1616106</td>\n",
       "      <td>fffffbebd4f5</td>\n",
       "      <td>InChI=1S/C22H17N5O4/c1-26-19(15(10-23)11-24-26...</td>\n",
       "    </tr>\n",
       "  </tbody>\n",
       "</table>\n",
       "<p>1616107 rows × 4 columns</p>\n",
       "</div>"
      ],
      "text/plain": [
       "         Unnamed: 0  Unnamed: 0.1      image_id  \\\n",
       "0                 0             0  00000d2a601c   \n",
       "1                 1             1  00001f7fc849   \n",
       "2                 2             2  000037687605   \n",
       "3                 3             3  00004b6d55b6   \n",
       "4                 4             4  00004df0fe53   \n",
       "...             ...           ...           ...   \n",
       "1616102     1616102       1616102  ffffcdb2e39e   \n",
       "1616103     1616103       1616103  ffffcfddd770   \n",
       "1616104     1616104       1616104  ffffe4ab06b2   \n",
       "1616105     1616105       1616105  ffffec4033ec   \n",
       "1616106     1616106       1616106  fffffbebd4f5   \n",
       "\n",
       "                                                     InChI  \n",
       "0        InChI=1S/C18H18N2O2/c1-13-6-8-15(9-7-13)10-11-...  \n",
       "1        InChI=1S/C11H14N2O4S/c1-8(7-12)18(14,15)13-9-4...  \n",
       "2        InChI=1S/C22H35FO4/c1-4-5-14-22(2,3)20(25)13-1...  \n",
       "3        InChI=1S/C11H13Cl2NO/c1-11(4-5-14-7-11)15-8-2-...  \n",
       "4        InChI=1S/C18H21FN4S/c1-13(8-16-4-3-7-24-16)11-...  \n",
       "...                                                    ...  \n",
       "1616102  InChI=1S/C21H25NO3/c23-17-5-8-20-19(9-13-25-21...  \n",
       "1616103  InChI=1S/C21H27ClN6O4/c1-20(2,3)15-14(22)17-25...  \n",
       "1616104  InChI=1S/C26H29F5N8O3/c27-19(4-8-38-9-5-20(23(...  \n",
       "1616105  InChI=1S/C18H17N3O3/c1-3-15(18(23)24)21-16-5-4...  \n",
       "1616106  InChI=1S/C22H17N5O4/c1-26-19(15(10-23)11-24-26...  \n",
       "\n",
       "[1616107 rows x 4 columns]"
      ]
     },
     "execution_count": 28,
     "metadata": {},
     "output_type": "execute_result"
    }
   ],
   "source": [
    "sample = pd.read_csv('submissions/random_from_train.csv')\n",
    "sample"
   ]
  },
  {
   "cell_type": "code",
   "execution_count": 29,
   "metadata": {},
   "outputs": [
    {
     "data": {
      "text/plain": [
       "Index(['Unnamed: 0', 'Unnamed: 0.1', 'image_id', 'InChI'], dtype='object')"
      ]
     },
     "execution_count": 29,
     "metadata": {},
     "output_type": "execute_result"
    }
   ],
   "source": [
    "sample.columns"
   ]
  },
  {
   "cell_type": "code",
   "execution_count": 31,
   "metadata": {},
   "outputs": [
    {
     "data": {
      "text/html": [
       "<div>\n",
       "<style scoped>\n",
       "    .dataframe tbody tr th:only-of-type {\n",
       "        vertical-align: middle;\n",
       "    }\n",
       "\n",
       "    .dataframe tbody tr th {\n",
       "        vertical-align: top;\n",
       "    }\n",
       "\n",
       "    .dataframe thead th {\n",
       "        text-align: right;\n",
       "    }\n",
       "</style>\n",
       "<table border=\"1\" class=\"dataframe\">\n",
       "  <thead>\n",
       "    <tr style=\"text-align: right;\">\n",
       "      <th></th>\n",
       "      <th>image_id</th>\n",
       "      <th>InChI</th>\n",
       "    </tr>\n",
       "  </thead>\n",
       "  <tbody>\n",
       "    <tr>\n",
       "      <th>0</th>\n",
       "      <td>00000d2a601c</td>\n",
       "      <td>InChI=1S/C18H18N2O2/c1-13-6-8-15(9-7-13)10-11-...</td>\n",
       "    </tr>\n",
       "    <tr>\n",
       "      <th>1</th>\n",
       "      <td>00001f7fc849</td>\n",
       "      <td>InChI=1S/C11H14N2O4S/c1-8(7-12)18(14,15)13-9-4...</td>\n",
       "    </tr>\n",
       "    <tr>\n",
       "      <th>2</th>\n",
       "      <td>000037687605</td>\n",
       "      <td>InChI=1S/C22H35FO4/c1-4-5-14-22(2,3)20(25)13-1...</td>\n",
       "    </tr>\n",
       "    <tr>\n",
       "      <th>3</th>\n",
       "      <td>00004b6d55b6</td>\n",
       "      <td>InChI=1S/C11H13Cl2NO/c1-11(4-5-14-7-11)15-8-2-...</td>\n",
       "    </tr>\n",
       "    <tr>\n",
       "      <th>4</th>\n",
       "      <td>00004df0fe53</td>\n",
       "      <td>InChI=1S/C18H21FN4S/c1-13(8-16-4-3-7-24-16)11-...</td>\n",
       "    </tr>\n",
       "    <tr>\n",
       "      <th>...</th>\n",
       "      <td>...</td>\n",
       "      <td>...</td>\n",
       "    </tr>\n",
       "    <tr>\n",
       "      <th>1616102</th>\n",
       "      <td>ffffcdb2e39e</td>\n",
       "      <td>InChI=1S/C21H25NO3/c23-17-5-8-20-19(9-13-25-21...</td>\n",
       "    </tr>\n",
       "    <tr>\n",
       "      <th>1616103</th>\n",
       "      <td>ffffcfddd770</td>\n",
       "      <td>InChI=1S/C21H27ClN6O4/c1-20(2,3)15-14(22)17-25...</td>\n",
       "    </tr>\n",
       "    <tr>\n",
       "      <th>1616104</th>\n",
       "      <td>ffffe4ab06b2</td>\n",
       "      <td>InChI=1S/C26H29F5N8O3/c27-19(4-8-38-9-5-20(23(...</td>\n",
       "    </tr>\n",
       "    <tr>\n",
       "      <th>1616105</th>\n",
       "      <td>ffffec4033ec</td>\n",
       "      <td>InChI=1S/C18H17N3O3/c1-3-15(18(23)24)21-16-5-4...</td>\n",
       "    </tr>\n",
       "    <tr>\n",
       "      <th>1616106</th>\n",
       "      <td>fffffbebd4f5</td>\n",
       "      <td>InChI=1S/C22H17N5O4/c1-26-19(15(10-23)11-24-26...</td>\n",
       "    </tr>\n",
       "  </tbody>\n",
       "</table>\n",
       "<p>1616107 rows × 2 columns</p>\n",
       "</div>"
      ],
      "text/plain": [
       "             image_id                                              InChI\n",
       "0        00000d2a601c  InChI=1S/C18H18N2O2/c1-13-6-8-15(9-7-13)10-11-...\n",
       "1        00001f7fc849  InChI=1S/C11H14N2O4S/c1-8(7-12)18(14,15)13-9-4...\n",
       "2        000037687605  InChI=1S/C22H35FO4/c1-4-5-14-22(2,3)20(25)13-1...\n",
       "3        00004b6d55b6  InChI=1S/C11H13Cl2NO/c1-11(4-5-14-7-11)15-8-2-...\n",
       "4        00004df0fe53  InChI=1S/C18H21FN4S/c1-13(8-16-4-3-7-24-16)11-...\n",
       "...               ...                                                ...\n",
       "1616102  ffffcdb2e39e  InChI=1S/C21H25NO3/c23-17-5-8-20-19(9-13-25-21...\n",
       "1616103  ffffcfddd770  InChI=1S/C21H27ClN6O4/c1-20(2,3)15-14(22)17-25...\n",
       "1616104  ffffe4ab06b2  InChI=1S/C26H29F5N8O3/c27-19(4-8-38-9-5-20(23(...\n",
       "1616105  ffffec4033ec  InChI=1S/C18H17N3O3/c1-3-15(18(23)24)21-16-5-4...\n",
       "1616106  fffffbebd4f5  InChI=1S/C22H17N5O4/c1-26-19(15(10-23)11-24-26...\n",
       "\n",
       "[1616107 rows x 2 columns]"
      ]
     },
     "execution_count": 31,
     "metadata": {},
     "output_type": "execute_result"
    }
   ],
   "source": [
    "sample.drop(columns=['Unnamed: 0', 'Unnamed: 0.1'], inplace=True)\n",
    "sample"
   ]
  },
  {
   "cell_type": "code",
   "execution_count": 32,
   "metadata": {},
   "outputs": [],
   "source": [
    "sample.to_csv('submissions/random_from_train.csv', index=False)"
   ]
  },
  {
   "cell_type": "code",
   "execution_count": 33,
   "metadata": {},
   "outputs": [
    {
     "data": {
      "text/html": [
       "<div>\n",
       "<style scoped>\n",
       "    .dataframe tbody tr th:only-of-type {\n",
       "        vertical-align: middle;\n",
       "    }\n",
       "\n",
       "    .dataframe tbody tr th {\n",
       "        vertical-align: top;\n",
       "    }\n",
       "\n",
       "    .dataframe thead th {\n",
       "        text-align: right;\n",
       "    }\n",
       "</style>\n",
       "<table border=\"1\" class=\"dataframe\">\n",
       "  <thead>\n",
       "    <tr style=\"text-align: right;\">\n",
       "      <th></th>\n",
       "      <th>image_id</th>\n",
       "      <th>InChI</th>\n",
       "    </tr>\n",
       "  </thead>\n",
       "  <tbody>\n",
       "    <tr>\n",
       "      <th>0</th>\n",
       "      <td>00000d2a601c</td>\n",
       "      <td>InChI=1S/C18H18N2O2/c1-13-6-8-15(9-7-13)10-11-...</td>\n",
       "    </tr>\n",
       "    <tr>\n",
       "      <th>1</th>\n",
       "      <td>00001f7fc849</td>\n",
       "      <td>InChI=1S/C11H14N2O4S/c1-8(7-12)18(14,15)13-9-4...</td>\n",
       "    </tr>\n",
       "    <tr>\n",
       "      <th>2</th>\n",
       "      <td>000037687605</td>\n",
       "      <td>InChI=1S/C22H35FO4/c1-4-5-14-22(2,3)20(25)13-1...</td>\n",
       "    </tr>\n",
       "    <tr>\n",
       "      <th>3</th>\n",
       "      <td>00004b6d55b6</td>\n",
       "      <td>InChI=1S/C11H13Cl2NO/c1-11(4-5-14-7-11)15-8-2-...</td>\n",
       "    </tr>\n",
       "    <tr>\n",
       "      <th>4</th>\n",
       "      <td>00004df0fe53</td>\n",
       "      <td>InChI=1S/C18H21FN4S/c1-13(8-16-4-3-7-24-16)11-...</td>\n",
       "    </tr>\n",
       "    <tr>\n",
       "      <th>...</th>\n",
       "      <td>...</td>\n",
       "      <td>...</td>\n",
       "    </tr>\n",
       "    <tr>\n",
       "      <th>1616102</th>\n",
       "      <td>ffffcdb2e39e</td>\n",
       "      <td>InChI=1S/C21H25NO3/c23-17-5-8-20-19(9-13-25-21...</td>\n",
       "    </tr>\n",
       "    <tr>\n",
       "      <th>1616103</th>\n",
       "      <td>ffffcfddd770</td>\n",
       "      <td>InChI=1S/C21H27ClN6O4/c1-20(2,3)15-14(22)17-25...</td>\n",
       "    </tr>\n",
       "    <tr>\n",
       "      <th>1616104</th>\n",
       "      <td>ffffe4ab06b2</td>\n",
       "      <td>InChI=1S/C26H29F5N8O3/c27-19(4-8-38-9-5-20(23(...</td>\n",
       "    </tr>\n",
       "    <tr>\n",
       "      <th>1616105</th>\n",
       "      <td>ffffec4033ec</td>\n",
       "      <td>InChI=1S/C18H17N3O3/c1-3-15(18(23)24)21-16-5-4...</td>\n",
       "    </tr>\n",
       "    <tr>\n",
       "      <th>1616106</th>\n",
       "      <td>fffffbebd4f5</td>\n",
       "      <td>InChI=1S/C22H17N5O4/c1-26-19(15(10-23)11-24-26...</td>\n",
       "    </tr>\n",
       "  </tbody>\n",
       "</table>\n",
       "<p>1616107 rows × 2 columns</p>\n",
       "</div>"
      ],
      "text/plain": [
       "             image_id                                              InChI\n",
       "0        00000d2a601c  InChI=1S/C18H18N2O2/c1-13-6-8-15(9-7-13)10-11-...\n",
       "1        00001f7fc849  InChI=1S/C11H14N2O4S/c1-8(7-12)18(14,15)13-9-4...\n",
       "2        000037687605  InChI=1S/C22H35FO4/c1-4-5-14-22(2,3)20(25)13-1...\n",
       "3        00004b6d55b6  InChI=1S/C11H13Cl2NO/c1-11(4-5-14-7-11)15-8-2-...\n",
       "4        00004df0fe53  InChI=1S/C18H21FN4S/c1-13(8-16-4-3-7-24-16)11-...\n",
       "...               ...                                                ...\n",
       "1616102  ffffcdb2e39e  InChI=1S/C21H25NO3/c23-17-5-8-20-19(9-13-25-21...\n",
       "1616103  ffffcfddd770  InChI=1S/C21H27ClN6O4/c1-20(2,3)15-14(22)17-25...\n",
       "1616104  ffffe4ab06b2  InChI=1S/C26H29F5N8O3/c27-19(4-8-38-9-5-20(23(...\n",
       "1616105  ffffec4033ec  InChI=1S/C18H17N3O3/c1-3-15(18(23)24)21-16-5-4...\n",
       "1616106  fffffbebd4f5  InChI=1S/C22H17N5O4/c1-26-19(15(10-23)11-24-26...\n",
       "\n",
       "[1616107 rows x 2 columns]"
      ]
     },
     "execution_count": 33,
     "metadata": {},
     "output_type": "execute_result"
    }
   ],
   "source": [
    "sample = pd.read_csv('submissions/random_from_train.csv')\n",
    "sample"
   ]
  },
  {
   "cell_type": "code",
   "execution_count": 34,
   "metadata": {},
   "outputs": [],
   "source": [
    "!gzip -k submissions/random_from_train.csv"
   ]
  },
  {
   "cell_type": "code",
   "execution_count": 35,
   "metadata": {},
   "outputs": [
    {
     "name": "stdout",
     "output_type": "stream",
     "text": [
      "total 298M\r\n",
      "-rw-rw-r-- 1 alex alex 219M июн  8 10:46 random_from_train.csv\r\n",
      "-rw-rw-r-- 1 alex alex  79M июн  8 10:46 random_from_train.csv.gz\r\n"
     ]
    }
   ],
   "source": [
    "!ls -lh submissions/"
   ]
  },
  {
   "cell_type": "markdown",
   "metadata": {},
   "source": [
    "With compressed .gz file scoring the Kaggle submission takes a lot longer."
   ]
  },
  {
   "cell_type": "markdown",
   "metadata": {},
   "source": [
    "Randomly choosing InChI string for test dataset from train dataset results in score 86."
   ]
  },
  {
   "cell_type": "code",
   "execution_count": null,
   "metadata": {},
   "outputs": [],
   "source": []
  },
  {
   "cell_type": "code",
   "execution_count": 37,
   "metadata": {},
   "outputs": [],
   "source": [
    "from Levenshtein import distance as edit_dist"
   ]
  },
  {
   "cell_type": "code",
   "execution_count": 38,
   "metadata": {},
   "outputs": [
    {
     "data": {
      "text/plain": [
       "99"
      ]
     },
     "execution_count": 38,
     "metadata": {},
     "output_type": "execute_result"
    }
   ],
   "source": [
    "edit_dist(train['InChI'][0], train['InChI'][1])"
   ]
  },
  {
   "cell_type": "code",
   "execution_count": 39,
   "metadata": {},
   "outputs": [
    {
     "data": {
      "text/plain": [
       "'InChI=1S/C13H20OS/c1-9(2)8-15-13-6-5-10(3)7-12(13)11(4)14/h5-7,9,11,14H,8H2,1-4H3'"
      ]
     },
     "execution_count": 39,
     "metadata": {},
     "output_type": "execute_result"
    }
   ],
   "source": [
    "train['InChI'][0]"
   ]
  },
  {
   "cell_type": "code",
   "execution_count": 40,
   "metadata": {},
   "outputs": [
    {
     "data": {
      "text/plain": [
       "'InChI=1S/C21H30O4/c1-12(22)25-14-6-8-20(2)13(10-14)11-17(23)19-15-4-5-18(24)21(15,3)9-7-16(19)20/h13-16,19H,4-11H2,1-3H3/t13-,14+,15+,16-,19-,20+,21+/m1/s1'"
      ]
     },
     "execution_count": 40,
     "metadata": {},
     "output_type": "execute_result"
    }
   ],
   "source": [
    "train['InChI'][1]"
   ]
  },
  {
   "cell_type": "code",
   "execution_count": 41,
   "metadata": {},
   "outputs": [],
   "source": [
    "del train\n",
    "del sample"
   ]
  },
  {
   "cell_type": "markdown",
   "metadata": {},
   "source": [
    "## Choosing similar molecules by Carbon counts\n",
    "\n",
    "Expect to already have predictions by our model about Carbon counts stored as a numpy file of integers."
   ]
  },
  {
   "cell_type": "code",
   "execution_count": 4,
   "metadata": {},
   "outputs": [],
   "source": [
    "submission = pd.read_csv('original_data/sample_submission.csv')      # all ['InChI'] will be changed below\n",
    "c_counts_test  = np.load('data/results_c_test_from_kaggle.npy')\n",
    "c_counts_train = np.load('data/pretrain2/atom_counts.npy')[:10**6,1] # choosing C counts\n",
    "inchi_train = pd.read_csv('original_data/train_labels.csv')[:10**6]  # have precalculated C counts"
   ]
  },
  {
   "cell_type": "code",
   "execution_count": 5,
   "metadata": {},
   "outputs": [
    {
     "data": {
      "text/html": [
       "<div>\n",
       "<style scoped>\n",
       "    .dataframe tbody tr th:only-of-type {\n",
       "        vertical-align: middle;\n",
       "    }\n",
       "\n",
       "    .dataframe tbody tr th {\n",
       "        vertical-align: top;\n",
       "    }\n",
       "\n",
       "    .dataframe thead th {\n",
       "        text-align: right;\n",
       "    }\n",
       "</style>\n",
       "<table border=\"1\" class=\"dataframe\">\n",
       "  <thead>\n",
       "    <tr style=\"text-align: right;\">\n",
       "      <th></th>\n",
       "      <th>image_id</th>\n",
       "      <th>InChI</th>\n",
       "    </tr>\n",
       "  </thead>\n",
       "  <tbody>\n",
       "    <tr>\n",
       "      <th>0</th>\n",
       "      <td>00000d2a601c</td>\n",
       "      <td>InChI=1S/H2O/h1H2</td>\n",
       "    </tr>\n",
       "    <tr>\n",
       "      <th>1</th>\n",
       "      <td>00001f7fc849</td>\n",
       "      <td>InChI=1S/H2O/h1H2</td>\n",
       "    </tr>\n",
       "    <tr>\n",
       "      <th>2</th>\n",
       "      <td>000037687605</td>\n",
       "      <td>InChI=1S/H2O/h1H2</td>\n",
       "    </tr>\n",
       "    <tr>\n",
       "      <th>3</th>\n",
       "      <td>00004b6d55b6</td>\n",
       "      <td>InChI=1S/H2O/h1H2</td>\n",
       "    </tr>\n",
       "    <tr>\n",
       "      <th>4</th>\n",
       "      <td>00004df0fe53</td>\n",
       "      <td>InChI=1S/H2O/h1H2</td>\n",
       "    </tr>\n",
       "    <tr>\n",
       "      <th>...</th>\n",
       "      <td>...</td>\n",
       "      <td>...</td>\n",
       "    </tr>\n",
       "    <tr>\n",
       "      <th>1616102</th>\n",
       "      <td>ffffcdb2e39e</td>\n",
       "      <td>InChI=1S/H2O/h1H2</td>\n",
       "    </tr>\n",
       "    <tr>\n",
       "      <th>1616103</th>\n",
       "      <td>ffffcfddd770</td>\n",
       "      <td>InChI=1S/H2O/h1H2</td>\n",
       "    </tr>\n",
       "    <tr>\n",
       "      <th>1616104</th>\n",
       "      <td>ffffe4ab06b2</td>\n",
       "      <td>InChI=1S/H2O/h1H2</td>\n",
       "    </tr>\n",
       "    <tr>\n",
       "      <th>1616105</th>\n",
       "      <td>ffffec4033ec</td>\n",
       "      <td>InChI=1S/H2O/h1H2</td>\n",
       "    </tr>\n",
       "    <tr>\n",
       "      <th>1616106</th>\n",
       "      <td>fffffbebd4f5</td>\n",
       "      <td>InChI=1S/H2O/h1H2</td>\n",
       "    </tr>\n",
       "  </tbody>\n",
       "</table>\n",
       "<p>1616107 rows × 2 columns</p>\n",
       "</div>"
      ],
      "text/plain": [
       "             image_id              InChI\n",
       "0        00000d2a601c  InChI=1S/H2O/h1H2\n",
       "1        00001f7fc849  InChI=1S/H2O/h1H2\n",
       "2        000037687605  InChI=1S/H2O/h1H2\n",
       "3        00004b6d55b6  InChI=1S/H2O/h1H2\n",
       "4        00004df0fe53  InChI=1S/H2O/h1H2\n",
       "...               ...                ...\n",
       "1616102  ffffcdb2e39e  InChI=1S/H2O/h1H2\n",
       "1616103  ffffcfddd770  InChI=1S/H2O/h1H2\n",
       "1616104  ffffe4ab06b2  InChI=1S/H2O/h1H2\n",
       "1616105  ffffec4033ec  InChI=1S/H2O/h1H2\n",
       "1616106  fffffbebd4f5  InChI=1S/H2O/h1H2\n",
       "\n",
       "[1616107 rows x 2 columns]"
      ]
     },
     "execution_count": 5,
     "metadata": {},
     "output_type": "execute_result"
    }
   ],
   "source": [
    "submission"
   ]
  },
  {
   "cell_type": "code",
   "execution_count": 6,
   "metadata": {},
   "outputs": [
    {
     "data": {
      "text/html": [
       "<div>\n",
       "<style scoped>\n",
       "    .dataframe tbody tr th:only-of-type {\n",
       "        vertical-align: middle;\n",
       "    }\n",
       "\n",
       "    .dataframe tbody tr th {\n",
       "        vertical-align: top;\n",
       "    }\n",
       "\n",
       "    .dataframe thead th {\n",
       "        text-align: right;\n",
       "    }\n",
       "</style>\n",
       "<table border=\"1\" class=\"dataframe\">\n",
       "  <thead>\n",
       "    <tr style=\"text-align: right;\">\n",
       "      <th></th>\n",
       "      <th>image_id</th>\n",
       "      <th>InChI</th>\n",
       "    </tr>\n",
       "  </thead>\n",
       "  <tbody>\n",
       "    <tr>\n",
       "      <th>0</th>\n",
       "      <td>000011a64c74</td>\n",
       "      <td>InChI=1S/C13H20OS/c1-9(2)8-15-13-6-5-10(3)7-12...</td>\n",
       "    </tr>\n",
       "    <tr>\n",
       "      <th>1</th>\n",
       "      <td>000019cc0cd2</td>\n",
       "      <td>InChI=1S/C21H30O4/c1-12(22)25-14-6-8-20(2)13(1...</td>\n",
       "    </tr>\n",
       "    <tr>\n",
       "      <th>2</th>\n",
       "      <td>0000252b6d2b</td>\n",
       "      <td>InChI=1S/C24H23N5O4/c1-14-13-15(7-8-17(14)28-1...</td>\n",
       "    </tr>\n",
       "    <tr>\n",
       "      <th>3</th>\n",
       "      <td>000026b49b7e</td>\n",
       "      <td>InChI=1S/C17H24N2O4S/c1-12(20)18-13(14-7-6-10-...</td>\n",
       "    </tr>\n",
       "    <tr>\n",
       "      <th>4</th>\n",
       "      <td>000026fc6c36</td>\n",
       "      <td>InChI=1S/C10H19N3O2S/c1-15-10(14)12-8-4-6-13(7...</td>\n",
       "    </tr>\n",
       "    <tr>\n",
       "      <th>...</th>\n",
       "      <td>...</td>\n",
       "      <td>...</td>\n",
       "    </tr>\n",
       "    <tr>\n",
       "      <th>999995</th>\n",
       "      <td>6995b5216597</td>\n",
       "      <td>InChI=1S/C26H27FN4O/c27-21-8-3-7-20(15-21)24-1...</td>\n",
       "    </tr>\n",
       "    <tr>\n",
       "      <th>999996</th>\n",
       "      <td>6995d1050315</td>\n",
       "      <td>InChI=1S/C19H24N2O5/c1-11(2)14(15(22)20-10-9-1...</td>\n",
       "    </tr>\n",
       "    <tr>\n",
       "      <th>999997</th>\n",
       "      <td>6995d8bf18ad</td>\n",
       "      <td>InChI=1S/C15H18ClNO2S2/c1-9(2)12-8-19-15(21)17...</td>\n",
       "    </tr>\n",
       "    <tr>\n",
       "      <th>999998</th>\n",
       "      <td>6995db66d69b</td>\n",
       "      <td>InChI=1S/C20H19ClN6/c21-17-7-3-1-5-15(17)12-24...</td>\n",
       "    </tr>\n",
       "    <tr>\n",
       "      <th>999999</th>\n",
       "      <td>6995ecea9740</td>\n",
       "      <td>InChI=1S/C22H22Cl2N4O/c23-18-1-2-19(20(24)15-1...</td>\n",
       "    </tr>\n",
       "  </tbody>\n",
       "</table>\n",
       "<p>1000000 rows × 2 columns</p>\n",
       "</div>"
      ],
      "text/plain": [
       "            image_id                                              InChI\n",
       "0       000011a64c74  InChI=1S/C13H20OS/c1-9(2)8-15-13-6-5-10(3)7-12...\n",
       "1       000019cc0cd2  InChI=1S/C21H30O4/c1-12(22)25-14-6-8-20(2)13(1...\n",
       "2       0000252b6d2b  InChI=1S/C24H23N5O4/c1-14-13-15(7-8-17(14)28-1...\n",
       "3       000026b49b7e  InChI=1S/C17H24N2O4S/c1-12(20)18-13(14-7-6-10-...\n",
       "4       000026fc6c36  InChI=1S/C10H19N3O2S/c1-15-10(14)12-8-4-6-13(7...\n",
       "...              ...                                                ...\n",
       "999995  6995b5216597  InChI=1S/C26H27FN4O/c27-21-8-3-7-20(15-21)24-1...\n",
       "999996  6995d1050315  InChI=1S/C19H24N2O5/c1-11(2)14(15(22)20-10-9-1...\n",
       "999997  6995d8bf18ad  InChI=1S/C15H18ClNO2S2/c1-9(2)12-8-19-15(21)17...\n",
       "999998  6995db66d69b  InChI=1S/C20H19ClN6/c21-17-7-3-1-5-15(17)12-24...\n",
       "999999  6995ecea9740  InChI=1S/C22H22Cl2N4O/c23-18-1-2-19(20(24)15-1...\n",
       "\n",
       "[1000000 rows x 2 columns]"
      ]
     },
     "execution_count": 6,
     "metadata": {},
     "output_type": "execute_result"
    }
   ],
   "source": [
    "inchi_train"
   ]
  },
  {
   "cell_type": "code",
   "execution_count": 7,
   "metadata": {},
   "outputs": [
    {
     "data": {
      "text/plain": [
       "'InChI=1S/H2O/h1H2'"
      ]
     },
     "execution_count": 7,
     "metadata": {},
     "output_type": "execute_result"
    }
   ],
   "source": [
    "submission.iat[0, 1] # expecting to see InChI string from the first row"
   ]
  },
  {
   "cell_type": "code",
   "execution_count": 8,
   "metadata": {},
   "outputs": [
    {
     "data": {
      "text/plain": [
       "'InChI=1S/C21H30O4/c1-12(22)25-14-6-8-20(2)13(10-14)11-17(23)19-15-4-5-18(24)21(15,3)9-7-16(19)20/h13-16,19H,4-11H2,1-3H3/t13-,14+,15+,16-,19-,20+,21+/m1/s1'"
      ]
     },
     "execution_count": 8,
     "metadata": {},
     "output_type": "execute_result"
    }
   ],
   "source": [
    "inchi_train.iat[1, 1]"
   ]
  },
  {
   "cell_type": "code",
   "execution_count": 11,
   "metadata": {},
   "outputs": [],
   "source": [
    "from functools import lru_cache"
   ]
  },
  {
   "cell_type": "code",
   "execution_count": 31,
   "metadata": {},
   "outputs": [],
   "source": [
    "@njit\n",
    "def first_index(array, value):\n",
    "    for index, val in np.ndenumerate(array):\n",
    "        if val == value:\n",
    "            return index[0]\n",
    "    else:\n",
    "        return -1"
   ]
  },
  {
   "cell_type": "code",
   "execution_count": 32,
   "metadata": {},
   "outputs": [],
   "source": [
    "@lru_cache(maxsize=100)\n",
    "def find_index_of_closest(c_count):\n",
    "    \"\"\"\n",
    "    Function looks for the first precise match.\n",
    "    If it's not found, looks for match for count +-1, count +-2.\n",
    "    If match is not found returns 0 (dummy index).\n",
    "    \"\"\"\n",
    "    res = first_index(c_counts_train, c_count)\n",
    "    if res < 0:\n",
    "        res = first_index(c_counts_train, c_count+1)\n",
    "    if res < 0 and c_count > 0:\n",
    "        res = first_index(c_counts_train, c_count-1)\n",
    "    if res < 0:\n",
    "        res = first_index(c_counts_train, c_count+2)\n",
    "    if res < 0 and c_count > 1:\n",
    "        res = first_index(c_counts_train, c_count-2)\n",
    "    if res < 0:\n",
    "        res = first_index(c_counts_train, c_count+3)\n",
    "    if res < 0 and c_count > 2:\n",
    "        res = first_index(c_counts_train, c_count-3)\n",
    "    if res < 0:\n",
    "        res = 0\n",
    "    return res"
   ]
  },
  {
   "cell_type": "code",
   "execution_count": 33,
   "metadata": {},
   "outputs": [
    {
     "name": "stderr",
     "output_type": "stream",
     "text": [
      "100%|██████████| 1616107/1616107 [01:02<00:00, 26034.04it/s]\n"
     ]
    }
   ],
   "source": [
    "for index in tqdm(range(submission.shape[0])):\n",
    "    submission.iat[index, 1] = inchi_train.iat[find_index_of_closest(c_counts_test[index]), 1]"
   ]
  },
  {
   "cell_type": "code",
   "execution_count": 34,
   "metadata": {},
   "outputs": [
    {
     "data": {
      "text/html": [
       "<div>\n",
       "<style scoped>\n",
       "    .dataframe tbody tr th:only-of-type {\n",
       "        vertical-align: middle;\n",
       "    }\n",
       "\n",
       "    .dataframe tbody tr th {\n",
       "        vertical-align: top;\n",
       "    }\n",
       "\n",
       "    .dataframe thead th {\n",
       "        text-align: right;\n",
       "    }\n",
       "</style>\n",
       "<table border=\"1\" class=\"dataframe\">\n",
       "  <thead>\n",
       "    <tr style=\"text-align: right;\">\n",
       "      <th></th>\n",
       "      <th>image_id</th>\n",
       "      <th>InChI</th>\n",
       "    </tr>\n",
       "  </thead>\n",
       "  <tbody>\n",
       "    <tr>\n",
       "      <th>0</th>\n",
       "      <td>00000d2a601c</td>\n",
       "      <td>InChI=1S/C7H6BrF3N2O2/c1-14-6-4(12)5(3(8)2-13-...</td>\n",
       "    </tr>\n",
       "    <tr>\n",
       "      <th>1</th>\n",
       "      <td>00001f7fc849</td>\n",
       "      <td>InChI=1S/C11H14N2O2/c1-7-12-6-9(5-10(14)15)11(...</td>\n",
       "    </tr>\n",
       "    <tr>\n",
       "      <th>2</th>\n",
       "      <td>000037687605</td>\n",
       "      <td>InChI=1S/C11H14N2O2/c1-7-12-6-9(5-10(14)15)11(...</td>\n",
       "    </tr>\n",
       "    <tr>\n",
       "      <th>3</th>\n",
       "      <td>00004b6d55b6</td>\n",
       "      <td>InChI=1S/C12H12O2S/c1-3-8-5-4-6-9-7-10(12(13)1...</td>\n",
       "    </tr>\n",
       "    <tr>\n",
       "      <th>4</th>\n",
       "      <td>00004df0fe53</td>\n",
       "      <td>InChI=1S/C8H10F3NS/c1-3-2-4(13)12-7-5(3)6(7)8(...</td>\n",
       "    </tr>\n",
       "    <tr>\n",
       "      <th>...</th>\n",
       "      <td>...</td>\n",
       "      <td>...</td>\n",
       "    </tr>\n",
       "    <tr>\n",
       "      <th>1616102</th>\n",
       "      <td>ffffcdb2e39e</td>\n",
       "      <td>InChI=1S/C18H19Cl2NO2/c1-12(2)9-10-23-14-6-3-5...</td>\n",
       "    </tr>\n",
       "    <tr>\n",
       "      <th>1616103</th>\n",
       "      <td>ffffcfddd770</td>\n",
       "      <td>InChI=1S/C17H24N2O4S/c1-12(20)18-13(14-7-6-10-...</td>\n",
       "    </tr>\n",
       "    <tr>\n",
       "      <th>1616104</th>\n",
       "      <td>ffffe4ab06b2</td>\n",
       "      <td>InChI=1S/C14H20N2S/c1-2-13-7-4-8-16(13)10-11-5...</td>\n",
       "    </tr>\n",
       "    <tr>\n",
       "      <th>1616105</th>\n",
       "      <td>ffffec4033ec</td>\n",
       "      <td>InChI=1S/C11H14N2O2/c1-7-12-6-9(5-10(14)15)11(...</td>\n",
       "    </tr>\n",
       "    <tr>\n",
       "      <th>1616106</th>\n",
       "      <td>fffffbebd4f5</td>\n",
       "      <td>InChI=1S/C17H24N2O4S/c1-12(20)18-13(14-7-6-10-...</td>\n",
       "    </tr>\n",
       "  </tbody>\n",
       "</table>\n",
       "<p>1616107 rows × 2 columns</p>\n",
       "</div>"
      ],
      "text/plain": [
       "             image_id                                              InChI\n",
       "0        00000d2a601c  InChI=1S/C7H6BrF3N2O2/c1-14-6-4(12)5(3(8)2-13-...\n",
       "1        00001f7fc849  InChI=1S/C11H14N2O2/c1-7-12-6-9(5-10(14)15)11(...\n",
       "2        000037687605  InChI=1S/C11H14N2O2/c1-7-12-6-9(5-10(14)15)11(...\n",
       "3        00004b6d55b6  InChI=1S/C12H12O2S/c1-3-8-5-4-6-9-7-10(12(13)1...\n",
       "4        00004df0fe53  InChI=1S/C8H10F3NS/c1-3-2-4(13)12-7-5(3)6(7)8(...\n",
       "...               ...                                                ...\n",
       "1616102  ffffcdb2e39e  InChI=1S/C18H19Cl2NO2/c1-12(2)9-10-23-14-6-3-5...\n",
       "1616103  ffffcfddd770  InChI=1S/C17H24N2O4S/c1-12(20)18-13(14-7-6-10-...\n",
       "1616104  ffffe4ab06b2  InChI=1S/C14H20N2S/c1-2-13-7-4-8-16(13)10-11-5...\n",
       "1616105  ffffec4033ec  InChI=1S/C11H14N2O2/c1-7-12-6-9(5-10(14)15)11(...\n",
       "1616106  fffffbebd4f5  InChI=1S/C17H24N2O4S/c1-12(20)18-13(14-7-6-10-...\n",
       "\n",
       "[1616107 rows x 2 columns]"
      ]
     },
     "execution_count": 34,
     "metadata": {},
     "output_type": "execute_result"
    }
   ],
   "source": [
    "submission"
   ]
  },
  {
   "cell_type": "code",
   "execution_count": 35,
   "metadata": {},
   "outputs": [],
   "source": [
    "submission.to_csv('submissions/close_to_C_counts.csv', index=False)"
   ]
  },
  {
   "cell_type": "code",
   "execution_count": 36,
   "metadata": {},
   "outputs": [],
   "source": [
    "!gzip -k submissions/close_to_C_counts.csv"
   ]
  },
  {
   "cell_type": "markdown",
   "metadata": {},
   "source": [
    "Submitting InChI strings from train dataset similar to the test pictures in terms of the number of Carbon atoms gives score 74."
   ]
  },
  {
   "cell_type": "code",
   "execution_count": 37,
   "metadata": {},
   "outputs": [],
   "source": [
    "del c_counts_test\n",
    "del c_counts_train"
   ]
  },
  {
   "cell_type": "markdown",
   "metadata": {},
   "source": [
    "## Choosing similar molecules by 6 most frequent atoms count."
   ]
  },
  {
   "cell_type": "code",
   "execution_count": 76,
   "metadata": {},
   "outputs": [],
   "source": [
    "LENGTH = 10 ** 6 // 100\n",
    "submission = pd.read_csv('original_data/sample_submission.csv')      # all ['InChI'] will be changed below\n",
    "atoms_counts_test  = np.load('data/results_multiple_counts_from_kaggle.npy')\n",
    "\n",
    "atoms_counts_train = np.zeros((LENGTH, 6),dtype=np.int32) # size=(LENGTH, 6 most frequent atoms)\n",
    "atoms_counts_train[:,:4] = np.load('data/pretrain2/atom_counts.npy')[:LENGTH,1:(1+4)]\n",
    "atoms_counts_train[:,4] = np.load('data/pretrain2/atom_counts.npy')[:LENGTH,7]\n",
    "atoms_counts_train[:,5] = np.load('data/pretrain2/atom_counts.npy')[:LENGTH,8]\n",
    "\n",
    "inchi_train = pd.read_csv('original_data/train_labels.csv')[:LENGTH]  # have precalculated C counts"
   ]
  },
  {
   "cell_type": "code",
   "execution_count": 77,
   "metadata": {
    "scrolled": true
   },
   "outputs": [
    {
     "data": {
      "text/plain": [
       "array([[13,  0,  1,  0,  1,  0],\n",
       "       [21,  0,  4,  0,  0,  0],\n",
       "       [24,  5,  4,  0,  0,  0],\n",
       "       ...,\n",
       "       [12,  3,  1,  0,  0,  0],\n",
       "       [21,  3,  5,  0,  2,  0],\n",
       "       [17,  0,  1,  0,  0,  1]], dtype=int32)"
      ]
     },
     "execution_count": 77,
     "metadata": {},
     "output_type": "execute_result"
    }
   ],
   "source": [
    "atoms_counts_train"
   ]
  },
  {
   "cell_type": "code",
   "execution_count": 78,
   "metadata": {},
   "outputs": [],
   "source": [
    "@njit\n",
    "def distance(known, predicted):\n",
    "    return np.sum(np.abs(known - predicted))"
   ]
  },
  {
   "cell_type": "code",
   "execution_count": 79,
   "metadata": {},
   "outputs": [],
   "source": [
    "@njit\n",
    "def find_index_of_closest1(atom_counts):\n",
    "    dist  = 1e5\n",
    "    index = 0\n",
    "    for i in range(atoms_counts_train.shape[0]):\n",
    "        d = distance(atoms_counts_train[i,:], atom_counts)\n",
    "        if d < dist:\n",
    "            dist = d\n",
    "            index = i\n",
    "    return index"
   ]
  },
  {
   "cell_type": "code",
   "execution_count": 81,
   "metadata": {},
   "outputs": [
    {
     "name": "stderr",
     "output_type": "stream",
     "text": [
      "  1%|          | 15967/1616107 [00:13<22:47, 1170.35it/s]\n"
     ]
    },
    {
     "ename": "KeyboardInterrupt",
     "evalue": "",
     "output_type": "error",
     "traceback": [
      "\u001b[0;31m---------------------------------------------------------------------------\u001b[0m",
      "\u001b[0;31mKeyboardInterrupt\u001b[0m                         Traceback (most recent call last)",
      "\u001b[0;32m<timed exec>\u001b[0m in \u001b[0;36m<module>\u001b[0;34m\u001b[0m\n",
      "\u001b[0;31mKeyboardInterrupt\u001b[0m: "
     ]
    }
   ],
   "source": [
    "%%time\n",
    "for index in tqdm(range(submission.shape[0])):\n",
    "    a = find_index_of_closest1(atoms_counts_test[index,:])\n",
    "    submission.iat[index, 1] = inchi_train.iat[a, 1]"
   ]
  },
  {
   "cell_type": "code",
   "execution_count": 69,
   "metadata": {},
   "outputs": [
    {
     "data": {
      "text/plain": [
       "[0.0, 1.0, 2.0, 3.0, 4.0, 5.0, 6.0, 7.0, 8.0, 9.0]"
      ]
     },
     "execution_count": 69,
     "metadata": {},
     "output_type": "execute_result"
    }
   ],
   "source": [
    "# example of joblib.Parallel\n",
    "l = Parallel(n_jobs=6)(delayed(np.sqrt)(i ** 2) for i in range(10))\n",
    "l"
   ]
  },
  {
   "cell_type": "code",
   "execution_count": 82,
   "metadata": {},
   "outputs": [
    {
     "name": "stdout",
     "output_type": "stream",
     "text": [
      "CPU times: user 1min 55s, sys: 1.9 s, total: 1min 57s\n",
      "Wall time: 4min 47s\n"
     ]
    }
   ],
   "source": [
    "%%time\n",
    "indices = Parallel(n_jobs=6)(delayed(find_index_of_closest1)(\n",
    "                                    atoms_counts_test[index,:]) for index in range(submission.shape[0]))"
   ]
  },
  {
   "cell_type": "code",
   "execution_count": 83,
   "metadata": {},
   "outputs": [],
   "source": [
    "for index in range(submission.shape[0]):\n",
    "    submission.iat[index, 1] = inchi_train.iat[indices[index], 1]"
   ]
  },
  {
   "cell_type": "code",
   "execution_count": 84,
   "metadata": {},
   "outputs": [
    {
     "data": {
      "text/html": [
       "<div>\n",
       "<style scoped>\n",
       "    .dataframe tbody tr th:only-of-type {\n",
       "        vertical-align: middle;\n",
       "    }\n",
       "\n",
       "    .dataframe tbody tr th {\n",
       "        vertical-align: top;\n",
       "    }\n",
       "\n",
       "    .dataframe thead th {\n",
       "        text-align: right;\n",
       "    }\n",
       "</style>\n",
       "<table border=\"1\" class=\"dataframe\">\n",
       "  <thead>\n",
       "    <tr style=\"text-align: right;\">\n",
       "      <th></th>\n",
       "      <th>image_id</th>\n",
       "      <th>InChI</th>\n",
       "    </tr>\n",
       "  </thead>\n",
       "  <tbody>\n",
       "    <tr>\n",
       "      <th>0</th>\n",
       "      <td>00000d2a601c</td>\n",
       "      <td>InChI=1S/C10H14ClN3/c1-10(5-2-6-10)14-8(7-3-4-...</td>\n",
       "    </tr>\n",
       "    <tr>\n",
       "      <th>1</th>\n",
       "      <td>00001f7fc849</td>\n",
       "      <td>InChI=1S/C11H14ClN/c12-10-7-2-1-6-9(10)11(13)8...</td>\n",
       "    </tr>\n",
       "    <tr>\n",
       "      <th>2</th>\n",
       "      <td>000037687605</td>\n",
       "      <td>InChI=1S/C14H12ClFO/c1-9-6-7-10(12(15)8-9)14(1...</td>\n",
       "    </tr>\n",
       "    <tr>\n",
       "      <th>3</th>\n",
       "      <td>00004b6d55b6</td>\n",
       "      <td>InChI=1S/C15H14ClFN2O/c1-9-2-4-10(5-3-9)14(18)...</td>\n",
       "    </tr>\n",
       "    <tr>\n",
       "      <th>4</th>\n",
       "      <td>00004df0fe53</td>\n",
       "      <td>InChI=1S/C10H9ClO2/c11-9(10-8(12)6-13-10)7-4-2...</td>\n",
       "    </tr>\n",
       "    <tr>\n",
       "      <th>...</th>\n",
       "      <td>...</td>\n",
       "      <td>...</td>\n",
       "    </tr>\n",
       "    <tr>\n",
       "      <th>1616102</th>\n",
       "      <td>ffffcdb2e39e</td>\n",
       "      <td>InChI=1S/C19H28O/c1-4-6-7-8-9-13-16-20-19(17(3...</td>\n",
       "    </tr>\n",
       "    <tr>\n",
       "      <th>1616103</th>\n",
       "      <td>ffffcfddd770</td>\n",
       "      <td>InChI=1S/C18H19ClO2/c1-18(2,3)17(20)14-6-4-13(...</td>\n",
       "    </tr>\n",
       "    <tr>\n",
       "      <th>1616104</th>\n",
       "      <td>ffffe4ab06b2</td>\n",
       "      <td>InChI=1S/C15H21ClO2/c1-11-5-7-15(18,8-6-11)14(...</td>\n",
       "    </tr>\n",
       "    <tr>\n",
       "      <th>1616105</th>\n",
       "      <td>ffffec4033ec</td>\n",
       "      <td>InChI=1S/C12H13ClO2/c1-3-15-12(14)11(2)9-7-5-4...</td>\n",
       "    </tr>\n",
       "    <tr>\n",
       "      <th>1616106</th>\n",
       "      <td>fffffbebd4f5</td>\n",
       "      <td>InChI=1S/C19H28O/c1-4-6-7-8-9-13-16-20-19(17(3...</td>\n",
       "    </tr>\n",
       "  </tbody>\n",
       "</table>\n",
       "<p>1616107 rows × 2 columns</p>\n",
       "</div>"
      ],
      "text/plain": [
       "             image_id                                              InChI\n",
       "0        00000d2a601c  InChI=1S/C10H14ClN3/c1-10(5-2-6-10)14-8(7-3-4-...\n",
       "1        00001f7fc849  InChI=1S/C11H14ClN/c12-10-7-2-1-6-9(10)11(13)8...\n",
       "2        000037687605  InChI=1S/C14H12ClFO/c1-9-6-7-10(12(15)8-9)14(1...\n",
       "3        00004b6d55b6  InChI=1S/C15H14ClFN2O/c1-9-2-4-10(5-3-9)14(18)...\n",
       "4        00004df0fe53  InChI=1S/C10H9ClO2/c11-9(10-8(12)6-13-10)7-4-2...\n",
       "...               ...                                                ...\n",
       "1616102  ffffcdb2e39e  InChI=1S/C19H28O/c1-4-6-7-8-9-13-16-20-19(17(3...\n",
       "1616103  ffffcfddd770  InChI=1S/C18H19ClO2/c1-18(2,3)17(20)14-6-4-13(...\n",
       "1616104  ffffe4ab06b2  InChI=1S/C15H21ClO2/c1-11-5-7-15(18,8-6-11)14(...\n",
       "1616105  ffffec4033ec  InChI=1S/C12H13ClO2/c1-3-15-12(14)11(2)9-7-5-4...\n",
       "1616106  fffffbebd4f5  InChI=1S/C19H28O/c1-4-6-7-8-9-13-16-20-19(17(3...\n",
       "\n",
       "[1616107 rows x 2 columns]"
      ]
     },
     "execution_count": 84,
     "metadata": {},
     "output_type": "execute_result"
    }
   ],
   "source": [
    "submission"
   ]
  },
  {
   "cell_type": "code",
   "execution_count": 85,
   "metadata": {},
   "outputs": [],
   "source": [
    "submission.to_csv('submissions/close_to_atoms_counts.csv', index=False)"
   ]
  },
  {
   "cell_type": "code",
   "execution_count": 86,
   "metadata": {},
   "outputs": [],
   "source": [
    "!gzip -k submissions/close_to_atoms_counts.csv"
   ]
  },
  {
   "cell_type": "markdown",
   "metadata": {},
   "source": [
    "Submission result: score 73."
   ]
  },
  {
   "cell_type": "code",
   "execution_count": null,
   "metadata": {},
   "outputs": [],
   "source": []
  },
  {
   "cell_type": "code",
   "execution_count": null,
   "metadata": {},
   "outputs": [],
   "source": []
  }
 ],
 "metadata": {
  "kernelspec": {
   "display_name": "Python 3",
   "language": "python",
   "name": "python3"
  },
  "language_info": {
   "codemirror_mode": {
    "name": "ipython",
    "version": 3
   },
   "file_extension": ".py",
   "mimetype": "text/x-python",
   "name": "python",
   "nbconvert_exporter": "python",
   "pygments_lexer": "ipython3",
   "version": "3.6.9"
  }
 },
 "nbformat": 4,
 "nbformat_minor": 4
}
