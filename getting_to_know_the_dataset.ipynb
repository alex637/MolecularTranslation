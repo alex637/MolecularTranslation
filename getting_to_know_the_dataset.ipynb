{
 "cells": [
  {
   "cell_type": "code",
   "execution_count": 1,
   "metadata": {},
   "outputs": [
    {
     "name": "stdout",
     "output_type": "stream",
     "text": [
      "sample_submission.csv  test  train  train_labels.csv\r\n"
     ]
    }
   ],
   "source": [
    "!ls original_data/"
   ]
  },
  {
   "cell_type": "code",
   "execution_count": 2,
   "metadata": {},
   "outputs": [
    {
     "name": "stdout",
     "output_type": "stream",
     "text": [
      "0  1  2  3  4  5  6  7\t8  9  a  b  c  d  e  f\r\n"
     ]
    }
   ],
   "source": [
    "!ls original_data/train/"
   ]
  },
  {
   "cell_type": "code",
   "execution_count": 3,
   "metadata": {},
   "outputs": [
    {
     "name": "stdout",
     "output_type": "stream",
     "text": [
      "0  1  2  3  4  5  6  7\t8  9  a  b  c  d  e  f\r\n"
     ]
    }
   ],
   "source": [
    "!ls original_data/train/0/"
   ]
  },
  {
   "cell_type": "code",
   "execution_count": 4,
   "metadata": {},
   "outputs": [
    {
     "name": "stdout",
     "output_type": "stream",
     "text": [
      "0  1  2  3  4  5  6  7\t8  9  a  b  c  d  e  f\r\n"
     ]
    }
   ],
   "source": [
    "!ls original_data/train/0/0"
   ]
  },
  {
   "cell_type": "code",
   "execution_count": 5,
   "metadata": {},
   "outputs": [
    {
     "name": "stdout",
     "output_type": "stream",
     "text": [
      "000011a64c74.png  00048e4044c5.png  00084c93a919.png  000c6a721517.png\r\n",
      "000019cc0cd2.png  000490ab94a8.png  0008530f6fef.png  000c6f06d640.png\r\n",
      "0000252b6d2b.png  000490d002d0.png  00086dbca67d.png  000c7b0063a4.png\r\n",
      "000026b49b7e.png  000490d696cf.png  00086f962fe2.png  000c8376c202.png\r\n",
      "000026fc6c36.png  00049547f60d.png  00088cee91c9.png  000c8565167b.png\r\n",
      "000028818203.png  00049942be5e.png  000894337ff3.png  000c8fffaf07.png\r\n",
      "000029a61c01.png  00049d12f960.png  00089a80367e.png  000c92002cab.png\r\n",
      "000035624718.png  0004a0649c1c.png  0008a4998fb8.png  000ca0131f21.png\r\n",
      "00003e900ef4.png  0004a13a7be2.png  0008a8d9077c.png  000caa445277.png\r\n",
      "000045d5fbf9.png  0004b534216a.png  0008a9aaf9b9.png  000cb2a33503.png\r\n",
      "00005d8b1ff0.png  0004b6519113.png  0008b74ab840.png  000cb8f061f2.png\r\n",
      "00005f2f2dd2.png  0004b827cd5d.png  0008bd9fdb85.png  000cb9c67243.png\r\n",
      "000061d37e54.png  0004c1a006fd.png  0008bfc8fb8a.png  000ccbc90885.png\r\n",
      "0000642345c8.png  0004d4e8d7f7.png  0008c298332e.png  000ccc166ac3.png\r\n",
      "0000649f0313.png  0004e1cece94.png  0008c52718f4.png  000ccef4296a.png\r\n",
      "0000671afcbc.png  0004e4f228eb.png  0008cf4341f2.png  000cd8adf848.png\r\n",
      "00006b137aef.png  0004ea4f8cec.png  0008d0112679.png  000cda496d0f.png\r\n",
      "00006e1b11a2.png  0004ecd8a98a.png  0008d1551542.png  000cdcbe2cc3.png\r\n",
      "000077bfb356.png  0004ef9fe91e.png  0008d68dab0b.png  000cf5e54767.png\r\n",
      "00007e77d8a2.png  0004f7695c36.png  0008d74a30a0.png  000cfaecc12d.png\r\n",
      "00008ec0cf6c.png  0004fc23bb0a.png  0008e24a5207.png  000cfd3057b5.png\r\n",
      "000092011e0d.png  00050644f4c2.png  0008e660943c.png  000cfda5d8f4.png\r\n",
      "000093a52a28.png  00051239cb9d.png  0008e6de6ba3.png  000d0455bda1.png\r\n",
      "0000960e9456.png  0005171e4615.png  0008f871ed4b.png  000d0c2a7237.png\r\n",
      "0000a5af84ef.png  000517569edb.png  0009070ac9f2.png  000d1436c4f7.png\r\n",
      "0000a651dd85.png  00051bd073da.png  000927bd40b9.png  000d19ef08b7.png\r\n",
      "0000d7145c4f.png  00051c132586.png  00092fac4c2a.png  000d1d6a8e8b.png\r\n",
      "0000d8af0c3c.png  00051c690df6.png  000933ab7380.png  000d2484ac11.png\r\n",
      "0000d93e0e9b.png  00051cb577a7.png  00093b3d7fa9.png  000d29ca8696.png\r\n",
      "0000dd268ed8.png  00052b89d9a0.png  00095104aa30.png  000d29cea3ef.png\r\n",
      "0000f20d504a.png  00052d83d322.png  00095c0cb9f6.png  000d346b5fd8.png\r\n",
      "0000f4db51e5.png  0005317cb48c.png  00096288a15a.png  000d35b15800.png\r\n",
      "0000f7467baa.png  00053278d66c.png  00096cb3f50f.png  000d38e7370f.png\r\n",
      "00010522ccee.png  000532a89552.png  00096cbe9eb1.png  000d3adea05f.png\r\n",
      "00010784e8b1.png  000536a0e80b.png  00096d30a2a5.png  000d464b0fb8.png\r\n",
      "0001090e509f.png  00054064464c.png  000972afa6aa.png  000d48fa1595.png\r\n",
      "00010b52ab83.png  0005437fb816.png  000978e2912f.png  000d57ee4c06.png\r\n",
      "000111eac7c3.png  000547f3c246.png  000980b3cce7.png  000d5d385ecf.png\r\n",
      "000117f0a12c.png  00054dec8838.png  000982e8653d.png  000d5f60fc19.png\r\n",
      "0001183a4c2d.png  000570c0475b.png  00098439df0f.png  000d61f660a3.png\r\n",
      "00011bfb8d8b.png  00057a099290.png  000986de8b28.png  000d6238186d.png\r\n",
      "00012458491d.png  000583e1b42e.png  00098ac98096.png  000d693c21d4.png\r\n",
      "0001256416ca.png  00058b42ee85.png  00098d6757c2.png  000d6ac83a10.png\r\n",
      "0001301c0bee.png  00058eda90d3.png  00099e28fb3b.png  000d6c172731.png\r\n",
      "00013149354c.png  0005921671c4.png  00099f4f4cc7.png  000d71c8fb0b.png\r\n",
      "00013ddd64c1.png  0005995406d5.png  0009a5c286e0.png  000d76cf557b.png\r\n",
      "00015d2c6e6e.png  00059bd2e685.png  0009aaf489b3.png  000d789a1bc5.png\r\n",
      "0001684485d6.png  00059e7095f3.png  0009abfc150b.png  000d7a20d156.png\r\n",
      "000168c7c856.png  0005a1ea05e1.png  0009ad4f3e32.png  000d7eef8e22.png\r\n",
      "00016b151eaf.png  0005a5ca3b38.png  0009baf7728f.png  000d8c5b04c5.png\r\n",
      "00016b6a42d9.png  0005a604fedc.png  0009bcd4c2a2.png  000d9a874432.png\r\n",
      "00017e331d05.png  0005abdced55.png  0009bcd71e08.png  000da98eea08.png\r\n",
      "00017f173588.png  0005ad882508.png  0009c3683541.png  000db0dfee72.png\r\n",
      "0001822a2460.png  0005aed02525.png  0009c67c720c.png  000db3cd163f.png\r\n",
      "0001838a57da.png  0005b79f4017.png  0009d305c56e.png  000db744a5df.png\r\n",
      "000184a3cf19.png  0005beb636bf.png  0009dffdfda0.png  000db923c41b.png\r\n",
      "000186f37cf2.png  0005c6129100.png  0009e2412f87.png  000db9d60704.png\r\n",
      "00018b393f01.png  0005d0a55bd2.png  0009f2fc774d.png  000dba2ba82f.png\r\n",
      "000190f7c69c.png  0005d24c65cb.png  0009f8f0ff9c.png  000dbbb6bc1b.png\r\n",
      "0001976ae3ca.png  0005d8225b75.png  0009feb0416e.png  000dbc12882c.png\r\n",
      "00019d07b506.png  0005e5237816.png  0009fff62258.png  000dbcdcccd4.png\r\n",
      "0001a6568941.png  0005e60e7fe4.png  000a0d155624.png  000dc38e571a.png\r\n",
      "0001a980e392.png  00060041261d.png  000a0e123d80.png  000dd05235c0.png\r\n",
      "0001a98aebd3.png  0006139e8f94.png  000a1770d17b.png  000de03c7c25.png\r\n",
      "0001b2227092.png  000616ad76ab.png  000a212ed404.png  000de1957bcc.png\r\n",
      "0001b95ff724.png  00061eac03a0.png  000a234c6de8.png  000df59aa102.png\r\n",
      "0001bb9ae52f.png  000620fc7abc.png  000a37c2fb73.png  000df8d84b3b.png\r\n",
      "0001c3a05b55.png  000625e11ad2.png  000a4350950e.png  000df9ebf038.png\r\n",
      "0001ce19010c.png  000625fce5d2.png  000a534f135a.png  000dfa303732.png\r\n",
      "0001d3fa3996.png  00063f3d111e.png  000a569522e5.png  000dff15a7eb.png\r\n",
      "0001e0d91e5e.png  0006446d60c2.png  000a5fad05f1.png  000e004723ab.png\r\n",
      "0001e48d6106.png  000646d57777.png  000a67c14369.png  000e042d5a92.png\r\n",
      "0001f5bcacc5.png  00064bcfdc7a.png  000a738a0d8e.png  000e10f09a20.png\r\n",
      "0001fd222ced.png  00064e1eed7f.png  000a7cbd3229.png  000e192b79b2.png\r\n",
      "0001ff9be273.png  000660916093.png  000a7d7bb574.png  000e1cb2fa39.png\r\n",
      "00020904b390.png  00066239063b.png  000a7e53171e.png  000e20237c2c.png\r\n",
      "00021fbcd123.png  0006721dd15b.png  000a91060ebe.png  000e2ecdbf81.png\r\n",
      "000245607c37.png  0006728f5189.png  000a960657a8.png  000e328b689e.png\r\n",
      "00025f4f36d3.png  0006793832dc.png  000a96ee96a4.png  000e3809438a.png\r\n",
      "0002667a795b.png  000679cef32a.png  000a9bc9e3f5.png  000e3ca243b4.png\r\n",
      "00027f4dfa94.png  00067dd986d6.png  000a9fa4e602.png  000e3ddaf275.png\r\n",
      "0002831e6bca.png  000682c1fa2f.png  000aac63d307.png  000e45b3d8e4.png\r\n",
      "000289c1d9a2.png  00068aaeda1e.png  000ab523db49.png  000e568b787b.png\r\n",
      "0002911c6d49.png  00068c354be0.png  000ab549a0cf.png  000e5c26d27c.png\r\n",
      "000297935ad4.png  000690a2ad72.png  000ab75fccf8.png  000e5d60b4a6.png\r\n",
      "000299e5233d.png  0006938e3fab.png  000ab87284f6.png  000e607f35ff.png\r\n",
      "00029d4d4356.png  00069af34925.png  000ab94aad5d.png  000e68c60eab.png\r\n",
      "0002a6cf6d11.png  0006ab3fc6da.png  000ab9f5337c.png  000e70b55320.png\r\n",
      "0002b1c4d7ed.png  0006ae02ff58.png  000abb3b349a.png  000e7e005aae.png\r\n",
      "0002b3d27cfe.png  0006b94f7037.png  000ac18d3ff3.png  000e832881d5.png\r\n",
      "0002b609e2f4.png  0006c4846476.png  000ac368942d.png  000e9a761013.png\r\n",
      "0002d11cacbe.png  0006c4918a04.png  000ac58b2a07.png  000e9e26a480.png\r\n",
      "0002d29d0018.png  0006cd29dca7.png  000ad32cd779.png  000ea19882d9.png\r\n",
      "0002d581b04e.png  0006cedf627c.png  000ad622e276.png  000eb2e02159.png\r\n",
      "0002d6fd5609.png  0006d169b3a4.png  000adefcd661.png  000ebd8f290a.png\r\n",
      "0002e22e75d4.png  0006d5cb7700.png  000ae1a046f5.png  000ec5ce756d.png\r\n",
      "0002e68a7d51.png  0006d8c2718c.png  000ae9b85589.png  000ecc734ab7.png\r\n",
      "0002e78894dc.png  0006dfec0d35.png  000ae9d459d7.png  000ecd6dcbc0.png\r\n",
      "0002e8d055dd.png  0006eb13f2a9.png  000af1b4bd9d.png  000ecf287789.png\r\n",
      "0002ef76d320.png  0006ee97d4e2.png  000af23feb67.png  000edbe1303c.png\r\n",
      "0002f0127691.png  0006eef9c895.png  000af4a3321b.png  000ee693dddd.png\r\n",
      "0002fe83e00f.png  0006f6f1c5a8.png  000afb9f46bb.png  000ef285b595.png\r\n",
      "000314876bba.png  0006f793b057.png  000b079eeea3.png  000efa50e519.png\r\n",
      "000318a99ff3.png  0006f95b8a6f.png  000b082fd1a1.png  000efaa59b5a.png\r\n",
      "00031ad3aac5.png  000704ef611a.png  000b137d5dd6.png  000efbc84eea.png\r\n",
      "00032884eed8.png  00071558f234.png  000b15e6df0c.png  000effc96c5b.png\r\n",
      "00032ea81ed7.png  000715e668c7.png  000b1745a1eb.png  000f059eefc4.png\r\n",
      "000331ccf23b.png  00071b71fd95.png  000b34183bb4.png  000f0d9133a9.png\r\n",
      "0003356240c2.png  00071d8f6c1a.png  000b39394e97.png  000f11217923.png\r\n",
      "0003391149b5.png  00071fcb384e.png  000b39fffb9d.png  000f1332273b.png\r\n",
      "00033990068a.png  0007247a1d3c.png  000b3a7ec62c.png  000f1eeefbe9.png\r\n",
      "00033b2db38f.png  000728b2334a.png  000b43296c2c.png  000f21137150.png\r\n",
      "0003426e81bd.png  0007348fe4bc.png  000b4b31bb62.png  000f29978f0f.png\r\n",
      "0003506de7ee.png  00073834c005.png  000b4daa7382.png  000f2a58153e.png\r\n",
      "0003571e8e14.png  00073b47a88a.png  000b73470c57.png  000f2bfdae27.png\r\n",
      "0003634ab02f.png  00074203e26e.png  000b76118270.png  000f2df565a4.png\r\n",
      "0003653d7f04.png  000749f12e30.png  000b77b396e4.png  000f2e1e6b2f.png\r\n",
      "00037ad0f432.png  00074b007afa.png  000b848e7257.png  000f37690d45.png\r\n",
      "000388e433b8.png  00074fe2905f.png  000b86ac04b4.png  000f3c808a70.png\r\n",
      "0003891f33f5.png  000758d911d4.png  000b9193b67d.png  000f418e2ac5.png\r\n",
      "00038cc98b01.png  0007634e9d20.png  000b9a6566b5.png  000f424b2306.png\r\n",
      "000399fe8baa.png  00076695a8a7.png  000ba2bd0bd2.png  000f4586913d.png\r\n",
      "0003b7509988.png  00076c6f7697.png  000ba5756573.png  000f45fc9d1a.png\r\n",
      "0003c24c4c5c.png  00076d05b4aa.png  000ba80775e7.png  000f4c9e640b.png\r\n",
      "0003c9616586.png  00076e7dabb1.png  000bb7de78cb.png  000f4dea1a34.png\r\n",
      "0003d169e13e.png  00076eca053c.png  000bbd6b9b48.png  000f63f7450d.png\r\n",
      "0003d66b340e.png  000770b07d84.png  000bc3fce5cb.png  000f7106ec23.png\r\n",
      "0003f4ffebe0.png  000777ac0d7e.png  000bcbdb795e.png  000f7710593e.png\r\n",
      "0003f504d761.png  000785d223c9.png  000bcd336699.png  000f7b7212cf.png\r\n",
      "0003f5e7a0b7.png  0007978d1126.png  000bd2f21479.png  000f8332c087.png\r\n",
      "0003f60ad203.png  0007a52e1a49.png  000bd5a6cf83.png  000f87a08756.png\r\n",
      "0003f6caade7.png  0007acea78a4.png  000be0c71d1a.png  000f89938b9f.png\r\n",
      "000408ead1bb.png  0007b195cb2d.png  000be4907416.png  000f8a7d2437.png\r\n",
      "000415d9e4ed.png  0007d5010272.png  000be6ca2e8e.png  000f8c1937c4.png\r\n",
      "00042420623b.png  0007e3aea1e3.png  000beabf176b.png  000f91f6af21.png\r\n",
      "000425a29e5e.png  0007e701c7ea.png  000bec68302d.png  000f9e924051.png\r\n",
      "00043f385e71.png  0007eab62694.png  000bfaea01b9.png  000f9fc8b244.png\r\n",
      "000442541cc7.png  0007f4161605.png  000c00a19855.png  000fa0795b3c.png\r\n",
      "000446a971a1.png  0007fb292692.png  000c00d0d488.png  000fae9bd554.png\r\n",
      "00044d3343c3.png  000805efb403.png  000c22a627b7.png  000fb11f5c11.png\r\n",
      "00044e425653.png  00080ce992d8.png  000c268837ec.png  000fb9e3c329.png\r\n",
      "00044fb0c69c.png  0008116c4954.png  000c2c4c9759.png  000fbdf7f2b0.png\r\n",
      "00045fe72040.png  000826aac342.png  000c31136cd1.png  000fcd37cb46.png\r\n",
      "0004791ad28e.png  00082829a4a6.png  000c4f587472.png  000fd03cf312.png\r\n",
      "0004880fce42.png  00082ad560fc.png  000c5ec06789.png  000fd79dcc9c.png\r\n",
      "00048973c1f9.png  0008341fac53.png  000c61a2fbc9.png  000fdf15e01c.png\r\n",
      "000489e2915f.png  00083b69ff29.png  000c61b96248.png  000febc394e8.png\r\n",
      "00048dbdb122.png  00083e597827.png  000c62407129.png  000ff4316616.png\r\n"
     ]
    }
   ],
   "source": [
    "!ls original_data/train/0/0/0"
   ]
  },
  {
   "cell_type": "code",
   "execution_count": 6,
   "metadata": {},
   "outputs": [
    {
     "name": "stdout",
     "output_type": "stream",
     "text": [
      "bcf00192df55.png  bcf413ee2093.png  bcf794b36d97.png  bcfbbe0d6b02.png\r\n",
      "bcf007019c72.png  bcf414c6ed2b.png  bcf79558d632.png  bcfbc56c55e5.png\r\n",
      "bcf00ea4a80a.png  bcf41662f42f.png  bcf7a2e6f46b.png  bcfbc9b8ba1b.png\r\n",
      "bcf016f29a23.png  bcf41850eb3c.png  bcf7a7e37502.png  bcfbdaae0dbf.png\r\n",
      "bcf01e60c0e0.png  bcf41951f6ce.png  bcf7b719c468.png  bcfbe31cdcb5.png\r\n",
      "bcf01f34e9b4.png  bcf4242d8b2f.png  bcf7bd0b37a8.png  bcfc0a821f3d.png\r\n",
      "bcf02102e3e5.png  bcf4283f0742.png  bcf7c7542685.png  bcfc0c195172.png\r\n",
      "bcf02e5679ad.png  bcf42bcd6ad6.png  bcf7d2981cfd.png  bcfc1670a247.png\r\n",
      "bcf03d5ecb57.png  bcf42ebd5fb0.png  bcf7d9082327.png  bcfc1afd0cf7.png\r\n",
      "bcf03ef0a677.png  bcf42fc399ca.png  bcf7d96e66c7.png  bcfc1bd42ed6.png\r\n",
      "bcf03f1f810b.png  bcf43625eef5.png  bcf7e89e7113.png  bcfc29ca9d7f.png\r\n",
      "bcf04169c439.png  bcf43f29b009.png  bcf7f248fff0.png  bcfc2d87fe12.png\r\n",
      "bcf0423e87f6.png  bcf45749d105.png  bcf7f4c0ca85.png  bcfc3257f8b6.png\r\n",
      "bcf0438296f3.png  bcf463c719fd.png  bcf7f5202aaf.png  bcfc38b9f3cf.png\r\n",
      "bcf045767316.png  bcf4669da408.png  bcf7f8790925.png  bcfc3c6d81e5.png\r\n",
      "bcf04dc19c72.png  bcf46ebe46e6.png  bcf80619e4d9.png  bcfc3fb2462a.png\r\n",
      "bcf05bd56df0.png  bcf47b953313.png  bcf8073aded9.png  bcfc4527cf3d.png\r\n",
      "bcf0670009bd.png  bcf47d2cbfa9.png  bcf811219947.png  bcfc616be87e.png\r\n",
      "bcf071dcf77e.png  bcf47ec5a635.png  bcf811cb0241.png  bcfc61b0c998.png\r\n",
      "bcf0775c0395.png  bcf4854fd145.png  bcf81470dc68.png  bcfc753d04f7.png\r\n",
      "bcf0808309ff.png  bcf48a71bf59.png  bcf815fd7fc0.png  bcfc8489c10c.png\r\n",
      "bcf0833a3289.png  bcf49546dd03.png  bcf826808516.png  bcfc89a01cb6.png\r\n",
      "bcf08537e9af.png  bcf49c4e66ba.png  bcf8299679cb.png  bcfc9a17c317.png\r\n",
      "bcf088d6d03c.png  bcf49e72957c.png  bcf82a1d21d6.png  bcfca0c66911.png\r\n",
      "bcf094519cb5.png  bcf4a1006b7a.png  bcf82de40abc.png  bcfcc26bf0a6.png\r\n",
      "bcf09aa4eefb.png  bcf4b84de7b9.png  bcf82fa73cab.png  bcfcccea9312.png\r\n",
      "bcf09c5457bc.png  bcf4c8d79502.png  bcf83a30cecc.png  bcfccf42d5ed.png\r\n",
      "bcf0a4ee30bd.png  bcf4caf6141f.png  bcf8413f51a9.png  bcfccfb0594f.png\r\n",
      "bcf0ada77b5d.png  bcf4ce5de3e0.png  bcf841739660.png  bcfcd0ac79cd.png\r\n",
      "bcf0ba950fd7.png  bcf4d7957881.png  bcf84e0a8659.png  bcfcd2068446.png\r\n",
      "bcf0bd7ad7ed.png  bcf4d9048194.png  bcf8548f15f5.png  bcfcd592713e.png\r\n",
      "bcf0bf9523fb.png  bcf4eda7b4c9.png  bcf85b9fe5ea.png  bcfcdca31278.png\r\n",
      "bcf0c558749e.png  bcf4eeee9b1b.png  bcf8638fb21b.png  bcfcee08bd7d.png\r\n",
      "bcf0cf66abf7.png  bcf4ef1888f3.png  bcf864c50dd9.png  bcfcf201312e.png\r\n",
      "bcf0d79efb70.png  bcf4f19bcb63.png  bcf865586a3e.png  bcfcf5bfe799.png\r\n",
      "bcf0d9631f9d.png  bcf4fd4074af.png  bcf8672530b8.png  bcfd012c89b4.png\r\n",
      "bcf0da28d154.png  bcf50b97a6ed.png  bcf8675fd519.png  bcfd04e9a72c.png\r\n",
      "bcf0dddeeae9.png  bcf51e89e9ac.png  bcf873b910e2.png  bcfd055d5a72.png\r\n",
      "bcf0e3e18e97.png  bcf525154243.png  bcf873d28615.png  bcfd064fbb6c.png\r\n",
      "bcf0ea8d0f40.png  bcf5293c417e.png  bcf8807614ee.png  bcfd1179f4bb.png\r\n",
      "bcf0ed351ad5.png  bcf5300cf938.png  bcf880c5e74e.png  bcfd136be1c9.png\r\n",
      "bcf0fc1b3926.png  bcf53d48e5e8.png  bcf8990701c7.png  bcfd13764b39.png\r\n",
      "bcf102ed6917.png  bcf54b3f3265.png  bcf89d450614.png  bcfd138a34df.png\r\n",
      "bcf108e25f0f.png  bcf54d7ee906.png  bcf8a57c6d25.png  bcfd162b932f.png\r\n",
      "bcf10ea7ff32.png  bcf5500fb8bb.png  bcf8a67cad38.png  bcfd1d05ebf6.png\r\n",
      "bcf10f072625.png  bcf5584ffdb0.png  bcf8ad7eb37e.png  bcfd1fb05de0.png\r\n",
      "bcf11873f779.png  bcf5589e0409.png  bcf8b90aac8c.png  bcfd448a89cf.png\r\n",
      "bcf119ec87f5.png  bcf55ae12ccb.png  bcf8ba7d8e55.png  bcfd4f55f366.png\r\n",
      "bcf13170b1c0.png  bcf560b387a3.png  bcf8d63a0491.png  bcfd5a10585e.png\r\n",
      "bcf148997ddc.png  bcf5625cb0d5.png  bcf8da61d806.png  bcfd5c2eca5e.png\r\n",
      "bcf14b74a04c.png  bcf57f3ccb9e.png  bcf8e5ff0832.png  bcfd5ced6878.png\r\n",
      "bcf155000500.png  bcf57feb1f0f.png  bcf8e8533c71.png  bcfd5eae170d.png\r\n",
      "bcf1570f2ffa.png  bcf580f5709c.png  bcf8ea696a12.png  bcfd6dc55044.png\r\n",
      "bcf1592a3b81.png  bcf583630a31.png  bcf8fbf7f583.png  bcfd70063b70.png\r\n",
      "bcf1615b9093.png  bcf584069da7.png  bcf903bdf9d2.png  bcfd73dabe3f.png\r\n",
      "bcf165bb90f6.png  bcf589f0fcbf.png  bcf9099b5aeb.png  bcfd78cda90b.png\r\n",
      "bcf165d929ee.png  bcf58dc2b1ee.png  bcf90b3ba49a.png  bcfd81222b28.png\r\n",
      "bcf16a0ac40d.png  bcf58ef652ff.png  bcf92304c806.png  bcfd82ff2809.png\r\n",
      "bcf1706f6630.png  bcf594f69e20.png  bcf926c82237.png  bcfd93fb69fc.png\r\n",
      "bcf179ffc4dc.png  bcf5956e5b6a.png  bcf9277a7284.png  bcfd9e0173f4.png\r\n",
      "bcf17c697b89.png  bcf59cce2705.png  bcf92a161638.png  bcfd9ed6672d.png\r\n",
      "bcf181c6cb86.png  bcf5a6cc33e6.png  bcf92fe6e8e3.png  bcfda74f303c.png\r\n",
      "bcf182e8a4c4.png  bcf5afb5ae08.png  bcf935dd61d3.png  bcfdbaeb1b12.png\r\n",
      "bcf185040368.png  bcf5b3afc845.png  bcf9459c6735.png  bcfdcff2bc27.png\r\n",
      "bcf1a1cab215.png  bcf5c2880fec.png  bcf949f2f212.png  bcfdd3f7bab3.png\r\n",
      "bcf1a29eb9ef.png  bcf5c4227555.png  bcf95569ec2b.png  bcfde6ff2b04.png\r\n",
      "bcf1b3a1946d.png  bcf5cc792811.png  bcf95c653869.png  bcfde94c508c.png\r\n",
      "bcf1b588848a.png  bcf5d16209a5.png  bcf95c96cff9.png  bcfdece159f5.png\r\n",
      "bcf1b739a223.png  bcf5d5dd4b13.png  bcf95fa2d6ea.png  bcfdf0721f2f.png\r\n",
      "bcf1c00423dd.png  bcf5d9ff53a0.png  bcf966359c0e.png  bcfdf70025ce.png\r\n",
      "bcf1c924534c.png  bcf5e42e7561.png  bcf97285dac1.png  bcfdfc1a36db.png\r\n",
      "bcf1ca126c3c.png  bcf5ebe13371.png  bcf979366c91.png  bcfe00c79f00.png\r\n",
      "bcf1cdea1ee8.png  bcf5ee41e506.png  bcf97a737766.png  bcfe084b9a95.png\r\n",
      "bcf1ce8669d5.png  bcf5f0f515ec.png  bcf97eda36a7.png  bcfe11814c2e.png\r\n",
      "bcf1d73361a7.png  bcf5f11defd8.png  bcf97f1c3425.png  bcfe11eba8d2.png\r\n",
      "bcf1e2c01e33.png  bcf5f62bbe3b.png  bcf9880e19e6.png  bcfe1d53c1f7.png\r\n",
      "bcf1e694cb27.png  bcf5f6db37b2.png  bcf98ae252fe.png  bcfe320779a4.png\r\n",
      "bcf1fc6358db.png  bcf600f03acb.png  bcf98f1c2375.png  bcfe337ceaf1.png\r\n",
      "bcf1fe084f49.png  bcf6037b4824.png  bcf990641998.png  bcfe449a34f9.png\r\n",
      "bcf21e0c1d81.png  bcf607071fb9.png  bcf99b741d2f.png  bcfe4d36f3ab.png\r\n",
      "bcf22c0f4080.png  bcf6087cb211.png  bcf99df5dd6f.png  bcfe51a17122.png\r\n",
      "bcf22da9c6b9.png  bcf60d8e3498.png  bcf99f1802d5.png  bcfe549d6cad.png\r\n",
      "bcf22f62cdc4.png  bcf60e7b9a4c.png  bcf9ac4e4061.png  bcfe6aebb6a2.png\r\n",
      "bcf232045809.png  bcf6134c1acb.png  bcf9aee29271.png  bcfe6b391303.png\r\n",
      "bcf23bc3750f.png  bcf62e5cc393.png  bcf9cc51f87e.png  bcfe71c97cff.png\r\n",
      "bcf23cd1c86d.png  bcf63406c6ec.png  bcf9ce4685f4.png  bcfe752106c7.png\r\n",
      "bcf24068def4.png  bcf634b0b640.png  bcf9d39e350d.png  bcfe790c8253.png\r\n",
      "bcf24ba8eb71.png  bcf63b365643.png  bcf9db1548cd.png  bcfe7c6313ea.png\r\n",
      "bcf25fe3619b.png  bcf63c244783.png  bcf9dc5291d5.png  bcfe8a38f7d7.png\r\n",
      "bcf261853526.png  bcf641006654.png  bcf9e07efdb5.png  bcfe932e8400.png\r\n",
      "bcf26a4ec479.png  bcf650270ec1.png  bcf9e46ecc8f.png  bcfe982fad88.png\r\n",
      "bcf26ce068cb.png  bcf654d9d0ff.png  bcf9e6fc4bd0.png  bcfe9b578057.png\r\n",
      "bcf276f3dde8.png  bcf65694689d.png  bcf9edefc00d.png  bcfe9fb9a19b.png\r\n",
      "bcf277b8f73e.png  bcf662668fc7.png  bcf9fbe0ca02.png  bcfe9fca1104.png\r\n",
      "bcf27ed8d38c.png  bcf66352d21e.png  bcfa101d5408.png  bcfea53ed74d.png\r\n",
      "bcf28fd9d43b.png  bcf666d0e934.png  bcfa106216fb.png  bcfea75999ed.png\r\n",
      "bcf2926891c1.png  bcf66f0ae117.png  bcfa128cffd1.png  bcfeab76cc19.png\r\n",
      "bcf2946eb280.png  bcf670d0f3aa.png  bcfa256514e6.png  bcfeb3368897.png\r\n",
      "bcf29b117d51.png  bcf679a56acc.png  bcfa289195a8.png  bcfebca39530.png\r\n",
      "bcf2a26c0344.png  bcf67d358813.png  bcfa389c1135.png  bcfecc20088f.png\r\n",
      "bcf2a4087249.png  bcf67e7bc262.png  bcfa6c935bb3.png  bcfed4314e1e.png\r\n",
      "bcf2a4a8bfee.png  bcf67f75b14e.png  bcfa765e313a.png  bcfed5a169a9.png\r\n",
      "bcf2aae5d89a.png  bcf6846c356d.png  bcfa773e1eaa.png  bcfee14336c4.png\r\n",
      "bcf2c25ac29a.png  bcf68d6873f2.png  bcfa9114d4f0.png  bcfef8047ff0.png\r\n",
      "bcf2c5e14a01.png  bcf69d17f3b3.png  bcfa930394e6.png  bcfef8acffcb.png\r\n",
      "bcf2c92da290.png  bcf69e2ddc94.png  bcfa9881754a.png  bcfefff16f2b.png\r\n",
      "bcf2d276f267.png  bcf6a1e62a78.png  bcfa9a9e83ee.png  bcff05ac5a1f.png\r\n",
      "bcf2d6bb9941.png  bcf6ae422db3.png  bcfa9ebe4012.png  bcff0d1fcece.png\r\n",
      "bcf2df590b57.png  bcf6aedffff6.png  bcfa9ec72656.png  bcff0e27125e.png\r\n",
      "bcf2e3687a6e.png  bcf6b85af591.png  bcfab1749d9c.png  bcff136064a3.png\r\n",
      "bcf2e9faa30f.png  bcf6bcd1efc8.png  bcfaca65678a.png  bcff1d3968b8.png\r\n",
      "bcf2eaf3b5eb.png  bcf6bf034b2c.png  bcfadae2963d.png  bcff35f8074d.png\r\n",
      "bcf2f57318ae.png  bcf6c0db47a0.png  bcfae40585da.png  bcff3a4c22f3.png\r\n",
      "bcf2f758f114.png  bcf6c9a4e0e2.png  bcfae8e700ba.png  bcff3b32eb08.png\r\n",
      "bcf30e529bb4.png  bcf6d5ae2257.png  bcfae99e662c.png  bcff410ea2ac.png\r\n",
      "bcf31185c96d.png  bcf6d6246e43.png  bcfaeafb2189.png  bcff4ad5ae1e.png\r\n",
      "bcf311d7c18d.png  bcf6daba0d31.png  bcfaeb969ce0.png  bcff4e97af97.png\r\n",
      "bcf32ae79aa7.png  bcf6e3e711a2.png  bcfb0e5d575f.png  bcff64e930ce.png\r\n",
      "bcf32e6ffc64.png  bcf6e63e395a.png  bcfb0ee12031.png  bcff6c2b8dfc.png\r\n",
      "bcf3345edca9.png  bcf6e710bd49.png  bcfb0fc609e4.png  bcff754661e9.png\r\n",
      "bcf3378954c6.png  bcf6ef49029c.png  bcfb1f91f216.png  bcff7dd2c3fc.png\r\n",
      "bcf33ba98319.png  bcf6f8365d4f.png  bcfb2914231c.png  bcff9c58a438.png\r\n",
      "bcf34774e44f.png  bcf6f88f3483.png  bcfb29a5fc95.png  bcff9d01c596.png\r\n",
      "bcf35e0dc452.png  bcf6fd96528c.png  bcfb31b561c4.png  bcffa2b55e48.png\r\n",
      "bcf36d1dfa8d.png  bcf7001faed9.png  bcfb3fffa2cd.png  bcffb0c579b9.png\r\n",
      "bcf38818366d.png  bcf70585ada0.png  bcfb4859d513.png  bcffc2ae5f22.png\r\n",
      "bcf39ea2d00b.png  bcf70645dfba.png  bcfb6154bb84.png  bcffc3e22b06.png\r\n",
      "bcf3a5b4c532.png  bcf71484f416.png  bcfb6731a57b.png  bcffc868dc35.png\r\n",
      "bcf3b04f5540.png  bcf717a528ec.png  bcfb76f7da91.png  bcffc9acda09.png\r\n",
      "bcf3b80bd655.png  bcf71822c44b.png  bcfb7abae181.png  bcffdd13cc8e.png\r\n",
      "bcf3b8dd9a39.png  bcf71cb61878.png  bcfb83cf0711.png  bcffdd9d42c7.png\r\n",
      "bcf3c20b0bb4.png  bcf72ee5f1d0.png  bcfb869609d0.png  bcffe96b20e1.png\r\n",
      "bcf3cc41c16d.png  bcf7464cfe6e.png  bcfb91954101.png  bcffee251ecf.png\r\n",
      "bcf3d664e77f.png  bcf74a4dc818.png  bcfb9c2542c7.png  bcfff120a4c3.png\r\n",
      "bcf3dc60789a.png  bcf75cada207.png  bcfba00fcd4d.png  bcfff4bcec75.png\r\n",
      "bcf3e1e605f6.png  bcf760c99d1a.png  bcfba7ecf1df.png  bcfff9287b40.png\r\n",
      "bcf3e919e17a.png  bcf762f03ef9.png  bcfba943ea3a.png  bcfffa758955.png\r\n",
      "bcf3e989d9c7.png  bcf76717a0bb.png  bcfbaa929fcc.png  bcfffe3e5648.png\r\n",
      "bcf3fa63f7ce.png  bcf76eaabf50.png  bcfbb662c587.png\r\n",
      "bcf401f84dc9.png  bcf78ac231ea.png  bcfbb6b6a539.png\r\n",
      "bcf40dba66d3.png  bcf7918fa794.png  bcfbb89c16a8.png\r\n"
     ]
    }
   ],
   "source": [
    "!ls original_data/train/b/c/f"
   ]
  },
  {
   "cell_type": "code",
   "execution_count": 7,
   "metadata": {},
   "outputs": [
    {
     "name": "stdout",
     "output_type": "stream",
     "text": [
      "561\r\n"
     ]
    }
   ],
   "source": [
    "!ls -l original_data/train/b/c/f | grep ^- | wc -l"
   ]
  },
  {
   "cell_type": "code",
   "execution_count": 8,
   "metadata": {},
   "outputs": [
    {
     "name": "stdout",
     "output_type": "stream",
     "text": [
      "577\r\n"
     ]
    }
   ],
   "source": [
    "!ls -l original_data/train/b/c/a | grep ^- | wc -l"
   ]
  },
  {
   "cell_type": "code",
   "execution_count": 9,
   "metadata": {},
   "outputs": [
    {
     "name": "stdout",
     "output_type": "stream",
     "text": [
      "597\r\n"
     ]
    }
   ],
   "source": [
    "!ls -l original_data/train/0/0/7 | grep ^- | wc -l"
   ]
  },
  {
   "cell_type": "markdown",
   "metadata": {},
   "source": [
    "### Result 1:\n",
    "Files (pictures) in the train dataset are grouped by 3 layers of folders which are name 0-9, a-f (like hexadecimals). \n",
    "\n",
    "Different folders contain a bit different number of pictures."
   ]
  },
  {
   "cell_type": "code",
   "execution_count": 10,
   "metadata": {},
   "outputs": [
    {
     "name": "stdout",
     "output_type": "stream",
     "text": [
      "0  1  2  3  4  5  6  7\t8  9  a  b  c  d  e  f\r\n"
     ]
    }
   ],
   "source": [
    "!ls original_data/test/"
   ]
  },
  {
   "cell_type": "code",
   "execution_count": 11,
   "metadata": {},
   "outputs": [
    {
     "name": "stdout",
     "output_type": "stream",
     "text": [
      "0  1  2  3  4  5  6  7\t8  9  a  b  c  d  e  f\r\n"
     ]
    }
   ],
   "source": [
    "!ls original_data/test/0"
   ]
  },
  {
   "cell_type": "code",
   "execution_count": 12,
   "metadata": {
    "scrolled": true
   },
   "outputs": [
    {
     "name": "stdout",
     "output_type": "stream",
     "text": [
      "00000d2a601c.png  0003f51299bc.png  0008b57de8c6.png  000c9fb29f4b.png\r\n",
      "00001f7fc849.png  0003fc41602e.png  0008c4a7de4b.png  000cd0751be9.png\r\n",
      "000037687605.png  00040cfb95f8.png  0008cde06209.png  000ce2f06468.png\r\n",
      "00004b6d55b6.png  00040f40e602.png  0008dda02f34.png  000cf05fa41a.png\r\n",
      "00004df0fe53.png  000412ab4137.png  00091bfa3e03.png  000cf2c1242e.png\r\n",
      "000085dab281.png  000412d4fdff.png  00091dc03331.png  000cf90b1a12.png\r\n",
      "00008decfc8d.png  00042037b7b8.png  00092049b448.png  000cfd9f1ee2.png\r\n",
      "00008e8fe68c.png  000433db096e.png  0009333bc965.png  000cfddb2a7e.png\r\n",
      "000095714f0f.png  00044e6a18fa.png  0009460e385c.png  000cfe1cbe18.png\r\n",
      "0000a0541b08.png  0004930d2146.png  000954688d4d.png  000cfe7fd738.png\r\n",
      "0000a938c212.png  00049648b03e.png  00095e25a268.png  000cffde902f.png\r\n",
      "0000bd5e6821.png  0004c1216f41.png  000960872c77.png  000d02220e66.png\r\n",
      "0000ce262d60.png  0004c1e00245.png  000961763d10.png  000d1fb93323.png\r\n",
      "0000d4f3452e.png  0004cc6a5029.png  0009668e19de.png  000d24f7962a.png\r\n",
      "0000d776a997.png  0004cd3e3426.png  000966ec7942.png  000d2cd31395.png\r\n",
      "0000e3b2a8f9.png  0004d7b04023.png  00097078fcd4.png  000d2cd9ee4b.png\r\n",
      "0000f4dcb6b7.png  0004dac21d39.png  000975fb692b.png  000d37ecbb4a.png\r\n",
      "0000f5cef501.png  0004e05ef0a7.png  0009762c8697.png  000d450d049f.png\r\n",
      "000101401991.png  0004eca94d47.png  00097ba8b38d.png  000d45509257.png\r\n",
      "0001140fa7de.png  0004f3037c03.png  00097e3a0950.png  000d4bd71f69.png\r\n",
      "000117427ebc.png  0004f544820c.png  00097f96aab6.png  000d4c2cd1eb.png\r\n",
      "00013b5471ed.png  000509fdd917.png  000982ca3677.png  000d53433da0.png\r\n",
      "00013cf72794.png  00051f984370.png  000983d63cf3.png  000d54f53823.png\r\n",
      "00013f14ea19.png  00053ba0bfa2.png  00098c115e92.png  000d7b8b522e.png\r\n",
      "00013f492ca9.png  00054deb6fd2.png  0009a112e9e2.png  000d8c81cb6d.png\r\n",
      "0001446ef720.png  00054ef3d6ee.png  0009aed193b4.png  000d8ecae576.png\r\n",
      "0001508741e5.png  0005533c8a27.png  0009bc3259d1.png  000d94cc2c76.png\r\n",
      "0001526a6ee2.png  000560afb572.png  0009c122536d.png  000ddedb7faa.png\r\n",
      "0001532c38f9.png  000563415f48.png  0009cc1a77f6.png  000de85b42b4.png\r\n",
      "000158457dce.png  000564f9577a.png  0009cf1b77f1.png  000de9e1602c.png\r\n",
      "000160c1bb02.png  0005862dc0a1.png  0009e044c22e.png  000df4df9eeb.png\r\n",
      "000179403751.png  00058cc461f9.png  000a02b1efd5.png  000dfae23d82.png\r\n",
      "0001820c9bc7.png  0005a1c7b13d.png  000a19eb8de2.png  000dfb386532.png\r\n",
      "000192037442.png  0005a3e2c2f0.png  000a1df30dfe.png  000e07dcd4e1.png\r\n",
      "00019d35c5a4.png  0005b030ee28.png  000a291293ff.png  000e16fade20.png\r\n",
      "00019e38a7f5.png  0005b370c114.png  000a2d0c1855.png  000e3230b02f.png\r\n",
      "0001a3cd2b30.png  0005d124fe12.png  000a2d1f9cb8.png  000e3b5b327b.png\r\n",
      "0001bfbe2954.png  0005d4a26857.png  000a3ff713fe.png  000e426a4c9c.png\r\n",
      "0001c0587ca9.png  0005db1feac1.png  000a46528ca4.png  000e433d7569.png\r\n",
      "0001d3b93083.png  0005e79b424e.png  000a4f3533be.png  000e5de5cbee.png\r\n",
      "0001d62371fa.png  0005e7aa9460.png  000a70abbcf8.png  000e6ff38450.png\r\n",
      "0001e36f0b18.png  0005ee158f61.png  000a713c1875.png  000e745955b0.png\r\n",
      "0001e67fbbaa.png  000616367ef1.png  000a75803838.png  000e869d231c.png\r\n",
      "0001fce695e4.png  00061862c6b6.png  000a8a3002b6.png  000e9411226f.png\r\n",
      "000203b6d97f.png  0006412bb5a3.png  000a9ca3db01.png  000e9861899e.png\r\n",
      "00020d234ab7.png  000645f6ad63.png  000aac04be1a.png  000e9952aa75.png\r\n",
      "00020f2ce3bd.png  00065289d966.png  000ab578e458.png  000e9d2e99f1.png\r\n",
      "000211188342.png  00065d0ab80d.png  000acafea5e1.png  000ea1984e91.png\r\n",
      "000219a302cf.png  0006686a7ecd.png  000acfff612b.png  000ed11bdf6f.png\r\n",
      "00021df6e5f8.png  000673ce450c.png  000ade37d6e5.png  000ed3f0c1c5.png\r\n",
      "000225c1f89d.png  000674b84fc5.png  000af0af236d.png  000ed4f76900.png\r\n",
      "000228030b0c.png  00067ad94df4.png  000aff850ee3.png  000ed70d9aab.png\r\n",
      "00022a1b0e16.png  00069264b8d3.png  000b0dfa3528.png  000ed91dfbe4.png\r\n",
      "00022e9cb5d0.png  000693331453.png  000b1df90dcf.png  000eec0fd938.png\r\n",
      "00023d8f170e.png  0006ada5ba61.png  000b2f6f6271.png  000efd884608.png\r\n",
      "00023e9c2647.png  0006b7210648.png  000b2fa071e7.png  000f00572bbd.png\r\n",
      "00023f038603.png  0006c4185741.png  000b32562a27.png  000f08eb509b.png\r\n",
      "000248b08146.png  0006cb65d497.png  000b407f4d1c.png  000f0aecbe51.png\r\n",
      "000263648715.png  0006d8ee5e34.png  000b413e2780.png  000f1369e437.png\r\n",
      "0002713ae8a3.png  0006e2d46ae0.png  000b432db02a.png  000f1d1868da.png\r\n",
      "000291ab4717.png  0006e8a7ad71.png  000b44254d50.png  000f22395053.png\r\n",
      "000295ad75db.png  0006e8fe58a9.png  000b4bc2a232.png  000f323d6a8f.png\r\n",
      "0002a002e7bd.png  00070c0eca9b.png  000b68e4b81d.png  000f3eb10ed2.png\r\n",
      "0002a343167f.png  00070d32e860.png  000b8a8a2dc0.png  000f40feecb1.png\r\n",
      "0002b94a0299.png  00071c2b6f6f.png  000b8b9f79f5.png  000f49437995.png\r\n",
      "0002bd901d96.png  00071e15603a.png  000b8c020729.png  000f525531a9.png\r\n",
      "0002c1579afc.png  0007272fa078.png  000b97329416.png  000f57d50ccf.png\r\n",
      "0002dfc85e43.png  000734993504.png  000b9be33f54.png  000f653903a5.png\r\n",
      "0002e45bd4f1.png  000738f21ebe.png  000ba04d5215.png  000f6de60340.png\r\n",
      "0002e61e37b9.png  00073e401fa1.png  000ba2a7ab41.png  000f71d86f17.png\r\n",
      "0002edd379f1.png  00075a070819.png  000bab48a1b8.png  000f75d672f8.png\r\n",
      "0002fdb34b70.png  0007604e2128.png  000bacf4de3b.png  000f787c3733.png\r\n",
      "000315108288.png  000767209a56.png  000bb3f228ce.png  000f896ebbdb.png\r\n",
      "00031bd8ea93.png  000779e3a3b3.png  000bb3f427d0.png  000f89c689e6.png\r\n",
      "0003201fa305.png  0007833b297c.png  000bbe723586.png  000f8f3f7ffb.png\r\n",
      "000321ca554d.png  00078b872ca6.png  000bbeb244c4.png  000f90ff612d.png\r\n",
      "0003376b6ab7.png  00078ea25f94.png  000bc3077bc4.png  000f926c8bd2.png\r\n",
      "000338f5fa03.png  00079abef84d.png  000bc48ac6e3.png  000f9b3ddb53.png\r\n",
      "00033bf2b95a.png  0007b8b9da4f.png  000c047e2512.png  000f9d77bc7e.png\r\n",
      "000341457a26.png  0007ba2cd4c9.png  000c04940b00.png  000f9e661491.png\r\n",
      "000347e1476a.png  0007ee9b2e7f.png  000c0b119163.png  000faae4c4c6.png\r\n",
      "00035ec1b7c0.png  0007efe82e5b.png  000c110609af.png  000fb664a56e.png\r\n",
      "00037836791e.png  000815ea6af5.png  000c2063c932.png  000fb72c4bc6.png\r\n",
      "0003857e5583.png  00082ef32378.png  000c43112af1.png  000fb98720da.png\r\n",
      "000394479955.png  00083c5550e1.png  000c4ba19292.png  000fd0f600ad.png\r\n",
      "00039cf9a5af.png  000840773b21.png  000c5cab9e13.png  000fd2033599.png\r\n",
      "00039da5e1d6.png  000891e3d028.png  000c633fb7f9.png  000fdd4539ed.png\r\n",
      "0003b369c7d2.png  0008a22a754a.png  000c725d895a.png  000fe3ead367.png\r\n",
      "0003ba0b7883.png  0008a8f82b85.png  000c793acb49.png  000fe6495ddc.png\r\n",
      "0003bfd167c6.png  0008ad83a99a.png  000c93868ace.png  000feac41c2d.png\r\n",
      "0003e067930f.png  0008afbb19c5.png  000c9d5b305c.png  000ffea461e5.png\r\n"
     ]
    }
   ],
   "source": [
    "!ls original_data/test/0/0/0"
   ]
  },
  {
   "cell_type": "code",
   "execution_count": 17,
   "metadata": {},
   "outputs": [
    {
     "name": "stdout",
     "output_type": "stream",
     "text": [
      "1620476\r\n"
     ]
    }
   ],
   "source": [
    "!find original_data/test/ | wc -l"
   ]
  },
  {
   "cell_type": "markdown",
   "metadata": {},
   "source": [
    "### Result 2:\n",
    "About 1 600 000 pictures in the test dataset."
   ]
  },
  {
   "cell_type": "code",
   "execution_count": 18,
   "metadata": {},
   "outputs": [],
   "source": [
    "import pandas as pd"
   ]
  },
  {
   "cell_type": "code",
   "execution_count": 19,
   "metadata": {},
   "outputs": [
    {
     "data": {
      "text/html": [
       "<div>\n",
       "<style scoped>\n",
       "    .dataframe tbody tr th:only-of-type {\n",
       "        vertical-align: middle;\n",
       "    }\n",
       "\n",
       "    .dataframe tbody tr th {\n",
       "        vertical-align: top;\n",
       "    }\n",
       "\n",
       "    .dataframe thead th {\n",
       "        text-align: right;\n",
       "    }\n",
       "</style>\n",
       "<table border=\"1\" class=\"dataframe\">\n",
       "  <thead>\n",
       "    <tr style=\"text-align: right;\">\n",
       "      <th></th>\n",
       "      <th>image_id</th>\n",
       "      <th>InChI</th>\n",
       "    </tr>\n",
       "  </thead>\n",
       "  <tbody>\n",
       "    <tr>\n",
       "      <th>0</th>\n",
       "      <td>00000d2a601c</td>\n",
       "      <td>InChI=1S/H2O/h1H2</td>\n",
       "    </tr>\n",
       "    <tr>\n",
       "      <th>1</th>\n",
       "      <td>00001f7fc849</td>\n",
       "      <td>InChI=1S/H2O/h1H2</td>\n",
       "    </tr>\n",
       "    <tr>\n",
       "      <th>2</th>\n",
       "      <td>000037687605</td>\n",
       "      <td>InChI=1S/H2O/h1H2</td>\n",
       "    </tr>\n",
       "    <tr>\n",
       "      <th>3</th>\n",
       "      <td>00004b6d55b6</td>\n",
       "      <td>InChI=1S/H2O/h1H2</td>\n",
       "    </tr>\n",
       "    <tr>\n",
       "      <th>4</th>\n",
       "      <td>00004df0fe53</td>\n",
       "      <td>InChI=1S/H2O/h1H2</td>\n",
       "    </tr>\n",
       "  </tbody>\n",
       "</table>\n",
       "</div>"
      ],
      "text/plain": [
       "       image_id              InChI\n",
       "0  00000d2a601c  InChI=1S/H2O/h1H2\n",
       "1  00001f7fc849  InChI=1S/H2O/h1H2\n",
       "2  000037687605  InChI=1S/H2O/h1H2\n",
       "3  00004b6d55b6  InChI=1S/H2O/h1H2\n",
       "4  00004df0fe53  InChI=1S/H2O/h1H2"
      ]
     },
     "execution_count": 19,
     "metadata": {},
     "output_type": "execute_result"
    }
   ],
   "source": [
    "sample_submission = pd.read_csv('original_data/sample_submission.csv')\n",
    "sample_submission.head()"
   ]
  },
  {
   "cell_type": "code",
   "execution_count": 22,
   "metadata": {},
   "outputs": [
    {
     "data": {
      "text/plain": [
       "0    InChI=1S/H2O/h1H2\n",
       "1    InChI=1S/H2O/h1H2\n",
       "2    InChI=1S/H2O/h1H2\n",
       "3    InChI=1S/H2O/h1H2\n",
       "4    InChI=1S/H2O/h1H2\n",
       "Name: InChI, dtype: object"
      ]
     },
     "execution_count": 22,
     "metadata": {},
     "output_type": "execute_result"
    }
   ],
   "source": [
    "sample_submission['InChI'][:5]"
   ]
  },
  {
   "cell_type": "code",
   "execution_count": 23,
   "metadata": {},
   "outputs": [
    {
     "data": {
      "text/plain": [
       "(1616107, 2)"
      ]
     },
     "execution_count": 23,
     "metadata": {},
     "output_type": "execute_result"
    }
   ],
   "source": [
    "sample_submission.shape"
   ]
  },
  {
   "cell_type": "code",
   "execution_count": 24,
   "metadata": {},
   "outputs": [],
   "source": [
    "train = pd.read_csv('original_data/train_labels.csv')"
   ]
  },
  {
   "cell_type": "code",
   "execution_count": 25,
   "metadata": {},
   "outputs": [
    {
     "data": {
      "text/html": [
       "<div>\n",
       "<style scoped>\n",
       "    .dataframe tbody tr th:only-of-type {\n",
       "        vertical-align: middle;\n",
       "    }\n",
       "\n",
       "    .dataframe tbody tr th {\n",
       "        vertical-align: top;\n",
       "    }\n",
       "\n",
       "    .dataframe thead th {\n",
       "        text-align: right;\n",
       "    }\n",
       "</style>\n",
       "<table border=\"1\" class=\"dataframe\">\n",
       "  <thead>\n",
       "    <tr style=\"text-align: right;\">\n",
       "      <th></th>\n",
       "      <th>image_id</th>\n",
       "      <th>InChI</th>\n",
       "    </tr>\n",
       "  </thead>\n",
       "  <tbody>\n",
       "    <tr>\n",
       "      <th>0</th>\n",
       "      <td>000011a64c74</td>\n",
       "      <td>InChI=1S/C13H20OS/c1-9(2)8-15-13-6-5-10(3)7-12...</td>\n",
       "    </tr>\n",
       "    <tr>\n",
       "      <th>1</th>\n",
       "      <td>000019cc0cd2</td>\n",
       "      <td>InChI=1S/C21H30O4/c1-12(22)25-14-6-8-20(2)13(1...</td>\n",
       "    </tr>\n",
       "    <tr>\n",
       "      <th>2</th>\n",
       "      <td>0000252b6d2b</td>\n",
       "      <td>InChI=1S/C24H23N5O4/c1-14-13-15(7-8-17(14)28-1...</td>\n",
       "    </tr>\n",
       "    <tr>\n",
       "      <th>3</th>\n",
       "      <td>000026b49b7e</td>\n",
       "      <td>InChI=1S/C17H24N2O4S/c1-12(20)18-13(14-7-6-10-...</td>\n",
       "    </tr>\n",
       "    <tr>\n",
       "      <th>4</th>\n",
       "      <td>000026fc6c36</td>\n",
       "      <td>InChI=1S/C10H19N3O2S/c1-15-10(14)12-8-4-6-13(7...</td>\n",
       "    </tr>\n",
       "  </tbody>\n",
       "</table>\n",
       "</div>"
      ],
      "text/plain": [
       "       image_id                                              InChI\n",
       "0  000011a64c74  InChI=1S/C13H20OS/c1-9(2)8-15-13-6-5-10(3)7-12...\n",
       "1  000019cc0cd2  InChI=1S/C21H30O4/c1-12(22)25-14-6-8-20(2)13(1...\n",
       "2  0000252b6d2b  InChI=1S/C24H23N5O4/c1-14-13-15(7-8-17(14)28-1...\n",
       "3  000026b49b7e  InChI=1S/C17H24N2O4S/c1-12(20)18-13(14-7-6-10-...\n",
       "4  000026fc6c36  InChI=1S/C10H19N3O2S/c1-15-10(14)12-8-4-6-13(7..."
      ]
     },
     "execution_count": 25,
     "metadata": {},
     "output_type": "execute_result"
    }
   ],
   "source": [
    "train.head()"
   ]
  },
  {
   "cell_type": "code",
   "execution_count": 26,
   "metadata": {},
   "outputs": [
    {
     "data": {
      "text/plain": [
       "(2424186, 2)"
      ]
     },
     "execution_count": 26,
     "metadata": {},
     "output_type": "execute_result"
    }
   ],
   "source": [
    "train.shape"
   ]
  },
  {
   "cell_type": "markdown",
   "metadata": {},
   "source": [
    "About 2,5 million pictures in train dataset"
   ]
  },
  {
   "cell_type": "code",
   "execution_count": 29,
   "metadata": {},
   "outputs": [
    {
     "data": {
      "text/plain": [
       "image_id    2424186\n",
       "InChI       2424186\n",
       "dtype: int64"
      ]
     },
     "execution_count": 29,
     "metadata": {},
     "output_type": "execute_result"
    }
   ],
   "source": [
    "train.isnull().count()"
   ]
  },
  {
   "cell_type": "markdown",
   "metadata": {},
   "source": [
    "No omitted values"
   ]
  },
  {
   "cell_type": "code",
   "execution_count": 37,
   "metadata": {},
   "outputs": [],
   "source": [
    "import matplotlib.pyplot as plt\n",
    "import matplotlib.image  as img\n",
    "import os\n",
    "import random"
   ]
  },
  {
   "cell_type": "code",
   "execution_count": 41,
   "metadata": {},
   "outputs": [
    {
     "data": {
      "image/png": "[encoded data removed]",
      "text/plain": [
       "<Figure size 1152x720 with 12 Axes>"
      ]
     },
     "metadata": {
      "needs_background": "light"
     },
     "output_type": "display_data"
    }
   ],
   "source": [
    "fig = plt.figure(figsize=(16,10))\n",
    "rows = 4\n",
    "cols = 3\n",
    "index = 1\n",
    "for i in range(rows):\n",
    "    for j in range(cols):\n",
    "        dir_name = 'original_data/train/0/{}/{}/'.format(i, j)\n",
    "        filename = random.choice(os.listdir(dir_name))\n",
    "        fig.add_subplot(rows, cols, index)\n",
    "        plt.imshow(img.imread(dir_name + filename))\n",
    "        index += 1\n",
    "plt.show()"
   ]
  },
  {
   "cell_type": "code",
   "execution_count": 45,
   "metadata": {},
   "outputs": [
    {
     "data": {
      "text/plain": [
       "<matplotlib.image.AxesImage at 0x7f5b6ca56860>"
      ]
     },
     "execution_count": 45,
     "metadata": {},
     "output_type": "execute_result"
    },
    {
     "data": {
      "image/png": "[encoded data removed]",
      "text/plain": [
       "<Figure size 864x576 with 1 Axes>"
      ]
     },
     "metadata": {
      "needs_background": "light"
     },
     "output_type": "display_data"
    }
   ],
   "source": [
    "filename = random.choice(os.listdir('original_data/train/0/0/7/'))\n",
    "plt.figure(figsize=(12,8))\n",
    "plt.imshow(img.imread('original_data/train/0/0/7/' + filename))"
   ]
  },
  {
   "cell_type": "code",
   "execution_count": 46,
   "metadata": {},
   "outputs": [],
   "source": [
    "im = img.imread('original_data/train/0/0/7/' + filename)"
   ]
  },
  {
   "cell_type": "code",
   "execution_count": 48,
   "metadata": {},
   "outputs": [
    {
     "data": {
      "text/plain": [
       "(162, 430)"
      ]
     },
     "execution_count": 48,
     "metadata": {},
     "output_type": "execute_result"
    }
   ],
   "source": [
    "im.shape"
   ]
  },
  {
   "cell_type": "code",
   "execution_count": 54,
   "metadata": {},
   "outputs": [
    {
     "data": {
      "text/plain": [
       "69660"
      ]
     },
     "execution_count": 54,
     "metadata": {},
     "output_type": "execute_result"
    }
   ],
   "source": [
    "(im == 0).sum() + (im == 1).sum()"
   ]
  },
  {
   "cell_type": "code",
   "execution_count": 55,
   "metadata": {},
   "outputs": [
    {
     "data": {
      "text/plain": [
       "69660"
      ]
     },
     "execution_count": 55,
     "metadata": {},
     "output_type": "execute_result"
    }
   ],
   "source": [
    "im.shape[0] * im.shape[1]"
   ]
  },
  {
   "cell_type": "markdown",
   "metadata": {},
   "source": [
    "### Result 3:\n",
    "Monochromatic pictures of different sizes."
   ]
  },
  {
   "cell_type": "code",
   "execution_count": null,
   "metadata": {},
   "outputs": [],
   "source": []
  }
 ],
 "metadata": {
  "kernelspec": {
   "display_name": "Python 3",
   "language": "python",
   "name": "python3"
  },
  "language_info": {
   "codemirror_mode": {
    "name": "ipython",
    "version": 3
   },
   "file_extension": ".py",
   "mimetype": "text/x-python",
   "name": "python",
   "nbconvert_exporter": "python",
   "pygments_lexer": "ipython3",
   "version": "3.6.9"
  }
 },
 "nbformat": 4,
 "nbformat_minor": 4
}
